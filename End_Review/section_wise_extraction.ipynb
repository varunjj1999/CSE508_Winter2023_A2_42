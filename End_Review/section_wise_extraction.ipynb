{
  "nbformat": 4,
  "nbformat_minor": 0,
  "metadata": {
    "colab": {
      "provenance": [],
      "authorship_tag": "ABX9TyPwoGqhGGOcx1yIPoCGgre4"
    },
    "kernelspec": {
      "name": "python3",
      "display_name": "Python 3"
    },
    "language_info": {
      "name": "python"
    }
  },
  "cells": [
    {
      "cell_type": "code",
      "source": [],
      "metadata": {
        "id": "qpn78n8yOXby"
      },
      "execution_count": null,
      "outputs": []
    },
    {
      "cell_type": "code",
      "execution_count": null,
      "metadata": {
        "colab": {
          "base_uri": "https://localhost:8080/"
        },
        "id": "kYkylsJaTt8P",
        "outputId": "fbbdd846-f5cb-474f-a97c-03432128949c"
      },
      "outputs": [
        {
          "output_type": "stream",
          "name": "stderr",
          "text": [
            "[nltk_data] Downloading package wordnet to /root/nltk_data...\n",
            "[nltk_data] Downloading package punkt to /root/nltk_data...\n",
            "[nltk_data]   Unzipping tokenizers/punkt.zip.\n"
          ]
        }
      ],
      "source": [
        "movieimport numpy as np\n",
        "import pandas as pd\n",
        "import json\n",
        "import nltk\n",
        "from nltk.stem.porter import PorterStemmer\n",
        "nltk.download('wordnet')\n",
        "nltk.download('punkt')\n",
        "from nltk.stem import WordNetLemmatizer\n",
        "from sklearn.feature_extraction.text import CountVectorizer\n",
        "from sklearn.metrics.pairwise import cosine_similarity\n",
        "from termcolor import colored\n",
        "import ast"
      ]
    },
    {
      "cell_type": "code",
      "source": [
        "from google.colab import drive\n",
        "drive.mount('/content/drive')"
      ],
      "metadata": {
        "colab": {
          "base_uri": "https://localhost:8080/"
        },
        "id": "MXK_6cs-W9tV",
        "outputId": "3e899d77-20f0-41d8-d034-7dabbb697f3b"
      },
      "execution_count": null,
      "outputs": [
        {
          "output_type": "stream",
          "name": "stdout",
          "text": [
            "Mounted at /content/drive\n"
          ]
        }
      ]
    },
    {
      "cell_type": "code",
      "source": [
        "# Loading some amount of data \n",
        "lst = []\n",
        "c=0\n",
        "for row in open(\"/content/drive/MyDrive/arxiv-metadata-oai-snapshot.json\",'r'):\n",
        "  c+=1\n",
        "  data = json.loads(row)\n",
        "  lst.append(data)\n",
        "  if c==5000:\n",
        "    break"
      ],
      "metadata": {
        "id": "pARF4TcsW-xD"
      },
      "execution_count": null,
      "outputs": []
    },
    {
      "cell_type": "code",
      "source": [
        "# Converting the input data to a Dataframe\n",
        "df = pd.DataFrame(lst)\n",
        "paper=df\n",
        "paper.head()"
      ],
      "metadata": {
        "colab": {
          "base_uri": "https://localhost:8080/",
          "height": 721
        },
        "id": "mEWksb3fXJE0",
        "outputId": "343c57d6-c5e2-4c95-9b38-1ef3fd292370"
      },
      "execution_count": null,
      "outputs": [
        {
          "output_type": "execute_result",
          "data": {
            "text/plain": [
              "          id           submitter  \\\n",
              "0  0704.0001      Pavel Nadolsky   \n",
              "1  0704.0002        Louis Theran   \n",
              "2  0704.0003         Hongjun Pan   \n",
              "3  0704.0004        David Callan   \n",
              "4  0704.0005  Alberto Torchinsky   \n",
              "\n",
              "                                             authors  \\\n",
              "0  C. Bal\\'azs, E. L. Berger, P. M. Nadolsky, C.-...   \n",
              "1                    Ileana Streinu and Louis Theran   \n",
              "2                                        Hongjun Pan   \n",
              "3                                       David Callan   \n",
              "4           Wael Abu-Shammala and Alberto Torchinsky   \n",
              "\n",
              "                                               title  \\\n",
              "0  Calculation of prompt diphoton production cros...   \n",
              "1           Sparsity-certifying Graph Decompositions   \n",
              "2  The evolution of the Earth-Moon system based o...   \n",
              "3  A determinant of Stirling cycle numbers counts...   \n",
              "4  From dyadic $\\Lambda_{\\alpha}$ to $\\Lambda_{\\a...   \n",
              "\n",
              "                                  comments  \\\n",
              "0  37 pages, 15 figures; published version   \n",
              "1    To appear in Graphs and Combinatorics   \n",
              "2                      23 pages, 3 figures   \n",
              "3                                 11 pages   \n",
              "4                                     None   \n",
              "\n",
              "                                 journal-ref                         doi  \\\n",
              "0                   Phys.Rev.D76:013009,2007  10.1103/PhysRevD.76.013009   \n",
              "1                                       None                        None   \n",
              "2                                       None                        None   \n",
              "3                                       None                        None   \n",
              "4  Illinois J. Math. 52 (2008) no.2, 681-689                        None   \n",
              "\n",
              "          report-no       categories  \\\n",
              "0  ANL-HEP-PR-07-12           hep-ph   \n",
              "1              None    math.CO cs.CG   \n",
              "2              None   physics.gen-ph   \n",
              "3              None          math.CO   \n",
              "4              None  math.CA math.FA   \n",
              "\n",
              "                                             license  \\\n",
              "0                                               None   \n",
              "1  http://arxiv.org/licenses/nonexclusive-distrib...   \n",
              "2                                               None   \n",
              "3                                               None   \n",
              "4                                               None   \n",
              "\n",
              "                                            abstract  \\\n",
              "0    A fully differential calculation in perturba...   \n",
              "1    We describe a new algorithm, the $(k,\\ell)$-...   \n",
              "2    The evolution of Earth-Moon system is descri...   \n",
              "3    We show that a determinant of Stirling cycle...   \n",
              "4    In this paper we show how to compute the $\\L...   \n",
              "\n",
              "                                            versions update_date  \\\n",
              "0  [{'version': 'v1', 'created': 'Mon, 2 Apr 2007...  2008-11-26   \n",
              "1  [{'version': 'v1', 'created': 'Sat, 31 Mar 200...  2008-12-13   \n",
              "2  [{'version': 'v1', 'created': 'Sun, 1 Apr 2007...  2008-01-13   \n",
              "3  [{'version': 'v1', 'created': 'Sat, 31 Mar 200...  2007-05-23   \n",
              "4  [{'version': 'v1', 'created': 'Mon, 2 Apr 2007...  2013-10-15   \n",
              "\n",
              "                                      authors_parsed  \n",
              "0  [[Balázs, C., ], [Berger, E. L., ], [Nadolsky,...  \n",
              "1           [[Streinu, Ileana, ], [Theran, Louis, ]]  \n",
              "2                                 [[Pan, Hongjun, ]]  \n",
              "3                                [[Callan, David, ]]  \n",
              "4  [[Abu-Shammala, Wael, ], [Torchinsky, Alberto, ]]  "
            ],
            "text/html": [
              "\n",
              "  <div id=\"df-d4bbdb99-b9d9-4354-949a-bfea2a8f5dd1\">\n",
              "    <div class=\"colab-df-container\">\n",
              "      <div>\n",
              "<style scoped>\n",
              "    .dataframe tbody tr th:only-of-type {\n",
              "        vertical-align: middle;\n",
              "    }\n",
              "\n",
              "    .dataframe tbody tr th {\n",
              "        vertical-align: top;\n",
              "    }\n",
              "\n",
              "    .dataframe thead th {\n",
              "        text-align: right;\n",
              "    }\n",
              "</style>\n",
              "<table border=\"1\" class=\"dataframe\">\n",
              "  <thead>\n",
              "    <tr style=\"text-align: right;\">\n",
              "      <th></th>\n",
              "      <th>id</th>\n",
              "      <th>submitter</th>\n",
              "      <th>authors</th>\n",
              "      <th>title</th>\n",
              "      <th>comments</th>\n",
              "      <th>journal-ref</th>\n",
              "      <th>doi</th>\n",
              "      <th>report-no</th>\n",
              "      <th>categories</th>\n",
              "      <th>license</th>\n",
              "      <th>abstract</th>\n",
              "      <th>versions</th>\n",
              "      <th>update_date</th>\n",
              "      <th>authors_parsed</th>\n",
              "    </tr>\n",
              "  </thead>\n",
              "  <tbody>\n",
              "    <tr>\n",
              "      <th>0</th>\n",
              "      <td>0704.0001</td>\n",
              "      <td>Pavel Nadolsky</td>\n",
              "      <td>C. Bal\\'azs, E. L. Berger, P. M. Nadolsky, C.-...</td>\n",
              "      <td>Calculation of prompt diphoton production cros...</td>\n",
              "      <td>37 pages, 15 figures; published version</td>\n",
              "      <td>Phys.Rev.D76:013009,2007</td>\n",
              "      <td>10.1103/PhysRevD.76.013009</td>\n",
              "      <td>ANL-HEP-PR-07-12</td>\n",
              "      <td>hep-ph</td>\n",
              "      <td>None</td>\n",
              "      <td>A fully differential calculation in perturba...</td>\n",
              "      <td>[{'version': 'v1', 'created': 'Mon, 2 Apr 2007...</td>\n",
              "      <td>2008-11-26</td>\n",
              "      <td>[[Balázs, C., ], [Berger, E. L., ], [Nadolsky,...</td>\n",
              "    </tr>\n",
              "    <tr>\n",
              "      <th>1</th>\n",
              "      <td>0704.0002</td>\n",
              "      <td>Louis Theran</td>\n",
              "      <td>Ileana Streinu and Louis Theran</td>\n",
              "      <td>Sparsity-certifying Graph Decompositions</td>\n",
              "      <td>To appear in Graphs and Combinatorics</td>\n",
              "      <td>None</td>\n",
              "      <td>None</td>\n",
              "      <td>None</td>\n",
              "      <td>math.CO cs.CG</td>\n",
              "      <td>http://arxiv.org/licenses/nonexclusive-distrib...</td>\n",
              "      <td>We describe a new algorithm, the $(k,\\ell)$-...</td>\n",
              "      <td>[{'version': 'v1', 'created': 'Sat, 31 Mar 200...</td>\n",
              "      <td>2008-12-13</td>\n",
              "      <td>[[Streinu, Ileana, ], [Theran, Louis, ]]</td>\n",
              "    </tr>\n",
              "    <tr>\n",
              "      <th>2</th>\n",
              "      <td>0704.0003</td>\n",
              "      <td>Hongjun Pan</td>\n",
              "      <td>Hongjun Pan</td>\n",
              "      <td>The evolution of the Earth-Moon system based o...</td>\n",
              "      <td>23 pages, 3 figures</td>\n",
              "      <td>None</td>\n",
              "      <td>None</td>\n",
              "      <td>None</td>\n",
              "      <td>physics.gen-ph</td>\n",
              "      <td>None</td>\n",
              "      <td>The evolution of Earth-Moon system is descri...</td>\n",
              "      <td>[{'version': 'v1', 'created': 'Sun, 1 Apr 2007...</td>\n",
              "      <td>2008-01-13</td>\n",
              "      <td>[[Pan, Hongjun, ]]</td>\n",
              "    </tr>\n",
              "    <tr>\n",
              "      <th>3</th>\n",
              "      <td>0704.0004</td>\n",
              "      <td>David Callan</td>\n",
              "      <td>David Callan</td>\n",
              "      <td>A determinant of Stirling cycle numbers counts...</td>\n",
              "      <td>11 pages</td>\n",
              "      <td>None</td>\n",
              "      <td>None</td>\n",
              "      <td>None</td>\n",
              "      <td>math.CO</td>\n",
              "      <td>None</td>\n",
              "      <td>We show that a determinant of Stirling cycle...</td>\n",
              "      <td>[{'version': 'v1', 'created': 'Sat, 31 Mar 200...</td>\n",
              "      <td>2007-05-23</td>\n",
              "      <td>[[Callan, David, ]]</td>\n",
              "    </tr>\n",
              "    <tr>\n",
              "      <th>4</th>\n",
              "      <td>0704.0005</td>\n",
              "      <td>Alberto Torchinsky</td>\n",
              "      <td>Wael Abu-Shammala and Alberto Torchinsky</td>\n",
              "      <td>From dyadic $\\Lambda_{\\alpha}$ to $\\Lambda_{\\a...</td>\n",
              "      <td>None</td>\n",
              "      <td>Illinois J. Math. 52 (2008) no.2, 681-689</td>\n",
              "      <td>None</td>\n",
              "      <td>None</td>\n",
              "      <td>math.CA math.FA</td>\n",
              "      <td>None</td>\n",
              "      <td>In this paper we show how to compute the $\\L...</td>\n",
              "      <td>[{'version': 'v1', 'created': 'Mon, 2 Apr 2007...</td>\n",
              "      <td>2013-10-15</td>\n",
              "      <td>[[Abu-Shammala, Wael, ], [Torchinsky, Alberto, ]]</td>\n",
              "    </tr>\n",
              "  </tbody>\n",
              "</table>\n",
              "</div>\n",
              "      <button class=\"colab-df-convert\" onclick=\"convertToInteractive('df-d4bbdb99-b9d9-4354-949a-bfea2a8f5dd1')\"\n",
              "              title=\"Convert this dataframe to an interactive table.\"\n",
              "              style=\"display:none;\">\n",
              "        \n",
              "  <svg xmlns=\"http://www.w3.org/2000/svg\" height=\"24px\"viewBox=\"0 0 24 24\"\n",
              "       width=\"24px\">\n",
              "    <path d=\"M0 0h24v24H0V0z\" fill=\"none\"/>\n",
              "    <path d=\"M18.56 5.44l.94 2.06.94-2.06 2.06-.94-2.06-.94-.94-2.06-.94 2.06-2.06.94zm-11 1L8.5 8.5l.94-2.06 2.06-.94-2.06-.94L8.5 2.5l-.94 2.06-2.06.94zm10 10l.94 2.06.94-2.06 2.06-.94-2.06-.94-.94-2.06-.94 2.06-2.06.94z\"/><path d=\"M17.41 7.96l-1.37-1.37c-.4-.4-.92-.59-1.43-.59-.52 0-1.04.2-1.43.59L10.3 9.45l-7.72 7.72c-.78.78-.78 2.05 0 2.83L4 21.41c.39.39.9.59 1.41.59.51 0 1.02-.2 1.41-.59l7.78-7.78 2.81-2.81c.8-.78.8-2.07 0-2.86zM5.41 20L4 18.59l7.72-7.72 1.47 1.35L5.41 20z\"/>\n",
              "  </svg>\n",
              "      </button>\n",
              "      \n",
              "  <style>\n",
              "    .colab-df-container {\n",
              "      display:flex;\n",
              "      flex-wrap:wrap;\n",
              "      gap: 12px;\n",
              "    }\n",
              "\n",
              "    .colab-df-convert {\n",
              "      background-color: #E8F0FE;\n",
              "      border: none;\n",
              "      border-radius: 50%;\n",
              "      cursor: pointer;\n",
              "      display: none;\n",
              "      fill: #1967D2;\n",
              "      height: 32px;\n",
              "      padding: 0 0 0 0;\n",
              "      width: 32px;\n",
              "    }\n",
              "\n",
              "    .colab-df-convert:hover {\n",
              "      background-color: #E2EBFA;\n",
              "      box-shadow: 0px 1px 2px rgba(60, 64, 67, 0.3), 0px 1px 3px 1px rgba(60, 64, 67, 0.15);\n",
              "      fill: #174EA6;\n",
              "    }\n",
              "\n",
              "    [theme=dark] .colab-df-convert {\n",
              "      background-color: #3B4455;\n",
              "      fill: #D2E3FC;\n",
              "    }\n",
              "\n",
              "    [theme=dark] .colab-df-convert:hover {\n",
              "      background-color: #434B5C;\n",
              "      box-shadow: 0px 1px 3px 1px rgba(0, 0, 0, 0.15);\n",
              "      filter: drop-shadow(0px 1px 2px rgba(0, 0, 0, 0.3));\n",
              "      fill: #FFFFFF;\n",
              "    }\n",
              "  </style>\n",
              "\n",
              "      <script>\n",
              "        const buttonEl =\n",
              "          document.querySelector('#df-d4bbdb99-b9d9-4354-949a-bfea2a8f5dd1 button.colab-df-convert');\n",
              "        buttonEl.style.display =\n",
              "          google.colab.kernel.accessAllowed ? 'block' : 'none';\n",
              "\n",
              "        async function convertToInteractive(key) {\n",
              "          const element = document.querySelector('#df-d4bbdb99-b9d9-4354-949a-bfea2a8f5dd1');\n",
              "          const dataTable =\n",
              "            await google.colab.kernel.invokeFunction('convertToInteractive',\n",
              "                                                     [key], {});\n",
              "          if (!dataTable) return;\n",
              "\n",
              "          const docLinkHtml = 'Like what you see? Visit the ' +\n",
              "            '<a target=\"_blank\" href=https://colab.research.google.com/notebooks/data_table.ipynb>data table notebook</a>'\n",
              "            + ' to learn more about interactive tables.';\n",
              "          element.innerHTML = '';\n",
              "          dataTable['output_type'] = 'display_data';\n",
              "          await google.colab.output.renderOutput(dataTable, element);\n",
              "          const docLink = document.createElement('div');\n",
              "          docLink.innerHTML = docLinkHtml;\n",
              "          element.appendChild(docLink);\n",
              "        }\n",
              "      </script>\n",
              "    </div>\n",
              "  </div>\n",
              "  "
            ]
          },
          "metadata": {},
          "execution_count": 5
        }
      ]
    },
    {
      "cell_type": "code",
      "source": [
        "# Taking only the useful columns\n",
        "paper=paper[['id','authors','title','abstract']]\n",
        "# for index,row in paper.iterrows():\n",
        "#     print (index)"
      ],
      "metadata": {
        "id": "Hm-iidvfXJGC"
      },
      "execution_count": null,
      "outputs": []
    },
    {
      "cell_type": "code",
      "source": [
        "# Converting all to lower case\n",
        "paper.duplicated().sum()\n",
        "paper['title'] = paper['title'].str.lower()\n",
        "paper['authors'] = paper['authors'].str.lower()\n",
        " \n",
        "paper['abstract'] = paper['abstract'].str.lower()\n",
        " \n",
        "paper['tags'] =paper['title']+paper['abstract']\n",
        "paper.head(5)"
      ],
      "metadata": {
        "colab": {
          "base_uri": "https://localhost:8080/",
          "height": 644
        },
        "id": "UD3bA08LXJKj",
        "outputId": "145bc7cb-c639-451d-859c-73cd71e191d7"
      },
      "execution_count": null,
      "outputs": [
        {
          "output_type": "stream",
          "name": "stderr",
          "text": [
            "<ipython-input-7-d22d64444669>:3: SettingWithCopyWarning: \n",
            "A value is trying to be set on a copy of a slice from a DataFrame.\n",
            "Try using .loc[row_indexer,col_indexer] = value instead\n",
            "\n",
            "See the caveats in the documentation: https://pandas.pydata.org/pandas-docs/stable/user_guide/indexing.html#returning-a-view-versus-a-copy\n",
            "  paper['title'] = paper['title'].str.lower()\n",
            "<ipython-input-7-d22d64444669>:4: SettingWithCopyWarning: \n",
            "A value is trying to be set on a copy of a slice from a DataFrame.\n",
            "Try using .loc[row_indexer,col_indexer] = value instead\n",
            "\n",
            "See the caveats in the documentation: https://pandas.pydata.org/pandas-docs/stable/user_guide/indexing.html#returning-a-view-versus-a-copy\n",
            "  paper['authors'] = paper['authors'].str.lower()\n",
            "<ipython-input-7-d22d64444669>:6: SettingWithCopyWarning: \n",
            "A value is trying to be set on a copy of a slice from a DataFrame.\n",
            "Try using .loc[row_indexer,col_indexer] = value instead\n",
            "\n",
            "See the caveats in the documentation: https://pandas.pydata.org/pandas-docs/stable/user_guide/indexing.html#returning-a-view-versus-a-copy\n",
            "  paper['abstract'] = paper['abstract'].str.lower()\n",
            "<ipython-input-7-d22d64444669>:8: SettingWithCopyWarning: \n",
            "A value is trying to be set on a copy of a slice from a DataFrame.\n",
            "Try using .loc[row_indexer,col_indexer] = value instead\n",
            "\n",
            "See the caveats in the documentation: https://pandas.pydata.org/pandas-docs/stable/user_guide/indexing.html#returning-a-view-versus-a-copy\n",
            "  paper['tags'] =paper['title']+paper['abstract']\n"
          ]
        },
        {
          "output_type": "execute_result",
          "data": {
            "text/plain": [
              "          id                                            authors  \\\n",
              "0  0704.0001  c. bal\\'azs, e. l. berger, p. m. nadolsky, c.-...   \n",
              "1  0704.0002                    ileana streinu and louis theran   \n",
              "2  0704.0003                                        hongjun pan   \n",
              "3  0704.0004                                       david callan   \n",
              "4  0704.0005           wael abu-shammala and alberto torchinsky   \n",
              "\n",
              "                                               title  \\\n",
              "0  calculation of prompt diphoton production cros...   \n",
              "1           sparsity-certifying graph decompositions   \n",
              "2  the evolution of the earth-moon system based o...   \n",
              "3  a determinant of stirling cycle numbers counts...   \n",
              "4  from dyadic $\\lambda_{\\alpha}$ to $\\lambda_{\\a...   \n",
              "\n",
              "                                            abstract  \\\n",
              "0    a fully differential calculation in perturba...   \n",
              "1    we describe a new algorithm, the $(k,\\ell)$-...   \n",
              "2    the evolution of earth-moon system is descri...   \n",
              "3    we show that a determinant of stirling cycle...   \n",
              "4    in this paper we show how to compute the $\\l...   \n",
              "\n",
              "                                                tags  \n",
              "0  calculation of prompt diphoton production cros...  \n",
              "1  sparsity-certifying graph decompositions  we d...  \n",
              "2  the evolution of the earth-moon system based o...  \n",
              "3  a determinant of stirling cycle numbers counts...  \n",
              "4  from dyadic $\\lambda_{\\alpha}$ to $\\lambda_{\\a...  "
            ],
            "text/html": [
              "\n",
              "  <div id=\"df-13d404fd-f522-4f09-8db1-8c5a96b51f47\">\n",
              "    <div class=\"colab-df-container\">\n",
              "      <div>\n",
              "<style scoped>\n",
              "    .dataframe tbody tr th:only-of-type {\n",
              "        vertical-align: middle;\n",
              "    }\n",
              "\n",
              "    .dataframe tbody tr th {\n",
              "        vertical-align: top;\n",
              "    }\n",
              "\n",
              "    .dataframe thead th {\n",
              "        text-align: right;\n",
              "    }\n",
              "</style>\n",
              "<table border=\"1\" class=\"dataframe\">\n",
              "  <thead>\n",
              "    <tr style=\"text-align: right;\">\n",
              "      <th></th>\n",
              "      <th>id</th>\n",
              "      <th>authors</th>\n",
              "      <th>title</th>\n",
              "      <th>abstract</th>\n",
              "      <th>tags</th>\n",
              "    </tr>\n",
              "  </thead>\n",
              "  <tbody>\n",
              "    <tr>\n",
              "      <th>0</th>\n",
              "      <td>0704.0001</td>\n",
              "      <td>c. bal\\'azs, e. l. berger, p. m. nadolsky, c.-...</td>\n",
              "      <td>calculation of prompt diphoton production cros...</td>\n",
              "      <td>a fully differential calculation in perturba...</td>\n",
              "      <td>calculation of prompt diphoton production cros...</td>\n",
              "    </tr>\n",
              "    <tr>\n",
              "      <th>1</th>\n",
              "      <td>0704.0002</td>\n",
              "      <td>ileana streinu and louis theran</td>\n",
              "      <td>sparsity-certifying graph decompositions</td>\n",
              "      <td>we describe a new algorithm, the $(k,\\ell)$-...</td>\n",
              "      <td>sparsity-certifying graph decompositions  we d...</td>\n",
              "    </tr>\n",
              "    <tr>\n",
              "      <th>2</th>\n",
              "      <td>0704.0003</td>\n",
              "      <td>hongjun pan</td>\n",
              "      <td>the evolution of the earth-moon system based o...</td>\n",
              "      <td>the evolution of earth-moon system is descri...</td>\n",
              "      <td>the evolution of the earth-moon system based o...</td>\n",
              "    </tr>\n",
              "    <tr>\n",
              "      <th>3</th>\n",
              "      <td>0704.0004</td>\n",
              "      <td>david callan</td>\n",
              "      <td>a determinant of stirling cycle numbers counts...</td>\n",
              "      <td>we show that a determinant of stirling cycle...</td>\n",
              "      <td>a determinant of stirling cycle numbers counts...</td>\n",
              "    </tr>\n",
              "    <tr>\n",
              "      <th>4</th>\n",
              "      <td>0704.0005</td>\n",
              "      <td>wael abu-shammala and alberto torchinsky</td>\n",
              "      <td>from dyadic $\\lambda_{\\alpha}$ to $\\lambda_{\\a...</td>\n",
              "      <td>in this paper we show how to compute the $\\l...</td>\n",
              "      <td>from dyadic $\\lambda_{\\alpha}$ to $\\lambda_{\\a...</td>\n",
              "    </tr>\n",
              "  </tbody>\n",
              "</table>\n",
              "</div>\n",
              "      <button class=\"colab-df-convert\" onclick=\"convertToInteractive('df-13d404fd-f522-4f09-8db1-8c5a96b51f47')\"\n",
              "              title=\"Convert this dataframe to an interactive table.\"\n",
              "              style=\"display:none;\">\n",
              "        \n",
              "  <svg xmlns=\"http://www.w3.org/2000/svg\" height=\"24px\"viewBox=\"0 0 24 24\"\n",
              "       width=\"24px\">\n",
              "    <path d=\"M0 0h24v24H0V0z\" fill=\"none\"/>\n",
              "    <path d=\"M18.56 5.44l.94 2.06.94-2.06 2.06-.94-2.06-.94-.94-2.06-.94 2.06-2.06.94zm-11 1L8.5 8.5l.94-2.06 2.06-.94-2.06-.94L8.5 2.5l-.94 2.06-2.06.94zm10 10l.94 2.06.94-2.06 2.06-.94-2.06-.94-.94-2.06-.94 2.06-2.06.94z\"/><path d=\"M17.41 7.96l-1.37-1.37c-.4-.4-.92-.59-1.43-.59-.52 0-1.04.2-1.43.59L10.3 9.45l-7.72 7.72c-.78.78-.78 2.05 0 2.83L4 21.41c.39.39.9.59 1.41.59.51 0 1.02-.2 1.41-.59l7.78-7.78 2.81-2.81c.8-.78.8-2.07 0-2.86zM5.41 20L4 18.59l7.72-7.72 1.47 1.35L5.41 20z\"/>\n",
              "  </svg>\n",
              "      </button>\n",
              "      \n",
              "  <style>\n",
              "    .colab-df-container {\n",
              "      display:flex;\n",
              "      flex-wrap:wrap;\n",
              "      gap: 12px;\n",
              "    }\n",
              "\n",
              "    .colab-df-convert {\n",
              "      background-color: #E8F0FE;\n",
              "      border: none;\n",
              "      border-radius: 50%;\n",
              "      cursor: pointer;\n",
              "      display: none;\n",
              "      fill: #1967D2;\n",
              "      height: 32px;\n",
              "      padding: 0 0 0 0;\n",
              "      width: 32px;\n",
              "    }\n",
              "\n",
              "    .colab-df-convert:hover {\n",
              "      background-color: #E2EBFA;\n",
              "      box-shadow: 0px 1px 2px rgba(60, 64, 67, 0.3), 0px 1px 3px 1px rgba(60, 64, 67, 0.15);\n",
              "      fill: #174EA6;\n",
              "    }\n",
              "\n",
              "    [theme=dark] .colab-df-convert {\n",
              "      background-color: #3B4455;\n",
              "      fill: #D2E3FC;\n",
              "    }\n",
              "\n",
              "    [theme=dark] .colab-df-convert:hover {\n",
              "      background-color: #434B5C;\n",
              "      box-shadow: 0px 1px 3px 1px rgba(0, 0, 0, 0.15);\n",
              "      filter: drop-shadow(0px 1px 2px rgba(0, 0, 0, 0.3));\n",
              "      fill: #FFFFFF;\n",
              "    }\n",
              "  </style>\n",
              "\n",
              "      <script>\n",
              "        const buttonEl =\n",
              "          document.querySelector('#df-13d404fd-f522-4f09-8db1-8c5a96b51f47 button.colab-df-convert');\n",
              "        buttonEl.style.display =\n",
              "          google.colab.kernel.accessAllowed ? 'block' : 'none';\n",
              "\n",
              "        async function convertToInteractive(key) {\n",
              "          const element = document.querySelector('#df-13d404fd-f522-4f09-8db1-8c5a96b51f47');\n",
              "          const dataTable =\n",
              "            await google.colab.kernel.invokeFunction('convertToInteractive',\n",
              "                                                     [key], {});\n",
              "          if (!dataTable) return;\n",
              "\n",
              "          const docLinkHtml = 'Like what you see? Visit the ' +\n",
              "            '<a target=\"_blank\" href=https://colab.research.google.com/notebooks/data_table.ipynb>data table notebook</a>'\n",
              "            + ' to learn more about interactive tables.';\n",
              "          element.innerHTML = '';\n",
              "          dataTable['output_type'] = 'display_data';\n",
              "          await google.colab.output.renderOutput(dataTable, element);\n",
              "          const docLink = document.createElement('div');\n",
              "          docLink.innerHTML = docLinkHtml;\n",
              "          element.appendChild(docLink);\n",
              "        }\n",
              "      </script>\n",
              "    </div>\n",
              "  </div>\n",
              "  "
            ]
          },
          "metadata": {},
          "execution_count": 7
        }
      ]
    },
    {
      "cell_type": "code",
      "source": [
        "# paper=paper[['id','authors','title','tags']]\n",
        "# paper.head(5)"
      ],
      "metadata": {
        "id": "5_maQFcWXJMC"
      },
      "execution_count": null,
      "outputs": []
    },
    {
      "cell_type": "code",
      "source": [
        "paper= paper[paper['tags'].notnull()]\n",
        "\n",
        "# Splitting the tags\n",
        "def convert(text):\n",
        "    L = []\n",
        "    counter = 0\n",
        "    s=text.split(sep=None, maxsplit=-1)\n",
        "    print(s)\n",
        "    for i in s:\n",
        "         if i[-1]==',' or i[-1]==';' or i[-1]=='.':\n",
        "            i=i[:-1]\n",
        "         \n",
        "         L.append(s)\n",
        "    return L \n",
        "paper['tags'] = paper['tags'].apply(convert) \n",
        "paper.head(5)"
      ],
      "metadata": {
        "id": "SdjtMXS5XJQE"
      },
      "execution_count": null,
      "outputs": []
    },
    {
      "cell_type": "code",
      "source": [
        "# Further pre-processing\n",
        "for index,row in paper.iterrows():\n",
        "    L1=[]\n",
        "    for i in paper.loc[index]['tags']:\n",
        "        for j in i:\n",
        "           L1.append(j)\n",
        "    paper.loc[index]['tags']=L1\n",
        "paper.head()  "
      ],
      "metadata": {
        "colab": {
          "base_uri": "https://localhost:8080/",
          "height": 206
        },
        "id": "Zs7UylggXixh",
        "outputId": "049d586c-b3c9-4235-9de9-f1ad01bc2f0c"
      },
      "execution_count": null,
      "outputs": [
        {
          "output_type": "execute_result",
          "data": {
            "text/plain": [
              "          id                                            authors  \\\n",
              "0  0704.0001  c. bal\\'azs, e. l. berger, p. m. nadolsky, c.-...   \n",
              "1  0704.0002                    ileana streinu and louis theran   \n",
              "2  0704.0003                                        hongjun pan   \n",
              "3  0704.0004                                       david callan   \n",
              "4  0704.0005           wael abu-shammala and alberto torchinsky   \n",
              "\n",
              "                                               title  \\\n",
              "0  calculation of prompt diphoton production cros...   \n",
              "1           sparsity-certifying graph decompositions   \n",
              "2  the evolution of the earth-moon system based o...   \n",
              "3  a determinant of stirling cycle numbers counts...   \n",
              "4  from dyadic $\\lambda_{\\alpha}$ to $\\lambda_{\\a...   \n",
              "\n",
              "                                            abstract  \\\n",
              "0    a fully differential calculation in perturba...   \n",
              "1    we describe a new algorithm, the $(k,\\ell)$-...   \n",
              "2    the evolution of earth-moon system is descri...   \n",
              "3    we show that a determinant of stirling cycle...   \n",
              "4    in this paper we show how to compute the $\\l...   \n",
              "\n",
              "                                                tags  \n",
              "0  [calculation, of, prompt, diphoton, production...  \n",
              "1  [sparsity-certifying, graph, decompositions, w...  \n",
              "2  [the, evolution, of, the, earth-moon, system, ...  \n",
              "3  [a, determinant, of, stirling, cycle, numbers,...  \n",
              "4  [from, dyadic, $\\lambda_{\\alpha}$, to, $\\lambd...  "
            ],
            "text/html": [
              "\n",
              "  <div id=\"df-23d87147-7b43-4fff-a824-0b0afc934651\">\n",
              "    <div class=\"colab-df-container\">\n",
              "      <div>\n",
              "<style scoped>\n",
              "    .dataframe tbody tr th:only-of-type {\n",
              "        vertical-align: middle;\n",
              "    }\n",
              "\n",
              "    .dataframe tbody tr th {\n",
              "        vertical-align: top;\n",
              "    }\n",
              "\n",
              "    .dataframe thead th {\n",
              "        text-align: right;\n",
              "    }\n",
              "</style>\n",
              "<table border=\"1\" class=\"dataframe\">\n",
              "  <thead>\n",
              "    <tr style=\"text-align: right;\">\n",
              "      <th></th>\n",
              "      <th>id</th>\n",
              "      <th>authors</th>\n",
              "      <th>title</th>\n",
              "      <th>abstract</th>\n",
              "      <th>tags</th>\n",
              "    </tr>\n",
              "  </thead>\n",
              "  <tbody>\n",
              "    <tr>\n",
              "      <th>0</th>\n",
              "      <td>0704.0001</td>\n",
              "      <td>c. bal\\'azs, e. l. berger, p. m. nadolsky, c.-...</td>\n",
              "      <td>calculation of prompt diphoton production cros...</td>\n",
              "      <td>a fully differential calculation in perturba...</td>\n",
              "      <td>[calculation, of, prompt, diphoton, production...</td>\n",
              "    </tr>\n",
              "    <tr>\n",
              "      <th>1</th>\n",
              "      <td>0704.0002</td>\n",
              "      <td>ileana streinu and louis theran</td>\n",
              "      <td>sparsity-certifying graph decompositions</td>\n",
              "      <td>we describe a new algorithm, the $(k,\\ell)$-...</td>\n",
              "      <td>[sparsity-certifying, graph, decompositions, w...</td>\n",
              "    </tr>\n",
              "    <tr>\n",
              "      <th>2</th>\n",
              "      <td>0704.0003</td>\n",
              "      <td>hongjun pan</td>\n",
              "      <td>the evolution of the earth-moon system based o...</td>\n",
              "      <td>the evolution of earth-moon system is descri...</td>\n",
              "      <td>[the, evolution, of, the, earth-moon, system, ...</td>\n",
              "    </tr>\n",
              "    <tr>\n",
              "      <th>3</th>\n",
              "      <td>0704.0004</td>\n",
              "      <td>david callan</td>\n",
              "      <td>a determinant of stirling cycle numbers counts...</td>\n",
              "      <td>we show that a determinant of stirling cycle...</td>\n",
              "      <td>[a, determinant, of, stirling, cycle, numbers,...</td>\n",
              "    </tr>\n",
              "    <tr>\n",
              "      <th>4</th>\n",
              "      <td>0704.0005</td>\n",
              "      <td>wael abu-shammala and alberto torchinsky</td>\n",
              "      <td>from dyadic $\\lambda_{\\alpha}$ to $\\lambda_{\\a...</td>\n",
              "      <td>in this paper we show how to compute the $\\l...</td>\n",
              "      <td>[from, dyadic, $\\lambda_{\\alpha}$, to, $\\lambd...</td>\n",
              "    </tr>\n",
              "  </tbody>\n",
              "</table>\n",
              "</div>\n",
              "      <button class=\"colab-df-convert\" onclick=\"convertToInteractive('df-23d87147-7b43-4fff-a824-0b0afc934651')\"\n",
              "              title=\"Convert this dataframe to an interactive table.\"\n",
              "              style=\"display:none;\">\n",
              "        \n",
              "  <svg xmlns=\"http://www.w3.org/2000/svg\" height=\"24px\"viewBox=\"0 0 24 24\"\n",
              "       width=\"24px\">\n",
              "    <path d=\"M0 0h24v24H0V0z\" fill=\"none\"/>\n",
              "    <path d=\"M18.56 5.44l.94 2.06.94-2.06 2.06-.94-2.06-.94-.94-2.06-.94 2.06-2.06.94zm-11 1L8.5 8.5l.94-2.06 2.06-.94-2.06-.94L8.5 2.5l-.94 2.06-2.06.94zm10 10l.94 2.06.94-2.06 2.06-.94-2.06-.94-.94-2.06-.94 2.06-2.06.94z\"/><path d=\"M17.41 7.96l-1.37-1.37c-.4-.4-.92-.59-1.43-.59-.52 0-1.04.2-1.43.59L10.3 9.45l-7.72 7.72c-.78.78-.78 2.05 0 2.83L4 21.41c.39.39.9.59 1.41.59.51 0 1.02-.2 1.41-.59l7.78-7.78 2.81-2.81c.8-.78.8-2.07 0-2.86zM5.41 20L4 18.59l7.72-7.72 1.47 1.35L5.41 20z\"/>\n",
              "  </svg>\n",
              "      </button>\n",
              "      \n",
              "  <style>\n",
              "    .colab-df-container {\n",
              "      display:flex;\n",
              "      flex-wrap:wrap;\n",
              "      gap: 12px;\n",
              "    }\n",
              "\n",
              "    .colab-df-convert {\n",
              "      background-color: #E8F0FE;\n",
              "      border: none;\n",
              "      border-radius: 50%;\n",
              "      cursor: pointer;\n",
              "      display: none;\n",
              "      fill: #1967D2;\n",
              "      height: 32px;\n",
              "      padding: 0 0 0 0;\n",
              "      width: 32px;\n",
              "    }\n",
              "\n",
              "    .colab-df-convert:hover {\n",
              "      background-color: #E2EBFA;\n",
              "      box-shadow: 0px 1px 2px rgba(60, 64, 67, 0.3), 0px 1px 3px 1px rgba(60, 64, 67, 0.15);\n",
              "      fill: #174EA6;\n",
              "    }\n",
              "\n",
              "    [theme=dark] .colab-df-convert {\n",
              "      background-color: #3B4455;\n",
              "      fill: #D2E3FC;\n",
              "    }\n",
              "\n",
              "    [theme=dark] .colab-df-convert:hover {\n",
              "      background-color: #434B5C;\n",
              "      box-shadow: 0px 1px 3px 1px rgba(0, 0, 0, 0.15);\n",
              "      filter: drop-shadow(0px 1px 2px rgba(0, 0, 0, 0.3));\n",
              "      fill: #FFFFFF;\n",
              "    }\n",
              "  </style>\n",
              "\n",
              "      <script>\n",
              "        const buttonEl =\n",
              "          document.querySelector('#df-23d87147-7b43-4fff-a824-0b0afc934651 button.colab-df-convert');\n",
              "        buttonEl.style.display =\n",
              "          google.colab.kernel.accessAllowed ? 'block' : 'none';\n",
              "\n",
              "        async function convertToInteractive(key) {\n",
              "          const element = document.querySelector('#df-23d87147-7b43-4fff-a824-0b0afc934651');\n",
              "          const dataTable =\n",
              "            await google.colab.kernel.invokeFunction('convertToInteractive',\n",
              "                                                     [key], {});\n",
              "          if (!dataTable) return;\n",
              "\n",
              "          const docLinkHtml = 'Like what you see? Visit the ' +\n",
              "            '<a target=\"_blank\" href=https://colab.research.google.com/notebooks/data_table.ipynb>data table notebook</a>'\n",
              "            + ' to learn more about interactive tables.';\n",
              "          element.innerHTML = '';\n",
              "          dataTable['output_type'] = 'display_data';\n",
              "          await google.colab.output.renderOutput(dataTable, element);\n",
              "          const docLink = document.createElement('div');\n",
              "          docLink.innerHTML = docLinkHtml;\n",
              "          element.appendChild(docLink);\n",
              "        }\n",
              "      </script>\n",
              "    </div>\n",
              "  </div>\n",
              "  "
            ]
          },
          "metadata": {},
          "execution_count": 10
        }
      ]
    },
    {
      "cell_type": "code",
      "source": [
        "# Converting the list to a string in Tags column\n",
        "s=''\n",
        "for index,rows in paper.iterrows():\n",
        "  paper.loc[index]['tags']=' '.join(paper.loc[index,'tags'])\n",
        "paper.head()"
      ],
      "metadata": {
        "colab": {
          "base_uri": "https://localhost:8080/",
          "height": 206
        },
        "id": "oEkYEuBmXizC",
        "outputId": "3b626083-cdaf-4c00-cd7d-61e64ad7d929"
      },
      "execution_count": null,
      "outputs": [
        {
          "output_type": "execute_result",
          "data": {
            "text/plain": [
              "          id                                            authors  \\\n",
              "0  0704.0001  c. bal\\'azs, e. l. berger, p. m. nadolsky, c.-...   \n",
              "1  0704.0002                    ileana streinu and louis theran   \n",
              "2  0704.0003                                        hongjun pan   \n",
              "3  0704.0004                                       david callan   \n",
              "4  0704.0005           wael abu-shammala and alberto torchinsky   \n",
              "\n",
              "                                               title  \\\n",
              "0  calculation of prompt diphoton production cros...   \n",
              "1           sparsity-certifying graph decompositions   \n",
              "2  the evolution of the earth-moon system based o...   \n",
              "3  a determinant of stirling cycle numbers counts...   \n",
              "4  from dyadic $\\lambda_{\\alpha}$ to $\\lambda_{\\a...   \n",
              "\n",
              "                                            abstract  \\\n",
              "0    a fully differential calculation in perturba...   \n",
              "1    we describe a new algorithm, the $(k,\\ell)$-...   \n",
              "2    the evolution of earth-moon system is descri...   \n",
              "3    we show that a determinant of stirling cycle...   \n",
              "4    in this paper we show how to compute the $\\l...   \n",
              "\n",
              "                                                tags  \n",
              "0  calculation of prompt diphoton production cros...  \n",
              "1  sparsity-certifying graph decompositions we de...  \n",
              "2  the evolution of the earth-moon system based o...  \n",
              "3  a determinant of stirling cycle numbers counts...  \n",
              "4  from dyadic $\\lambda_{\\alpha}$ to $\\lambda_{\\a...  "
            ],
            "text/html": [
              "\n",
              "  <div id=\"df-a70034cb-6523-42e0-8cd9-7688c23b83d8\">\n",
              "    <div class=\"colab-df-container\">\n",
              "      <div>\n",
              "<style scoped>\n",
              "    .dataframe tbody tr th:only-of-type {\n",
              "        vertical-align: middle;\n",
              "    }\n",
              "\n",
              "    .dataframe tbody tr th {\n",
              "        vertical-align: top;\n",
              "    }\n",
              "\n",
              "    .dataframe thead th {\n",
              "        text-align: right;\n",
              "    }\n",
              "</style>\n",
              "<table border=\"1\" class=\"dataframe\">\n",
              "  <thead>\n",
              "    <tr style=\"text-align: right;\">\n",
              "      <th></th>\n",
              "      <th>id</th>\n",
              "      <th>authors</th>\n",
              "      <th>title</th>\n",
              "      <th>abstract</th>\n",
              "      <th>tags</th>\n",
              "    </tr>\n",
              "  </thead>\n",
              "  <tbody>\n",
              "    <tr>\n",
              "      <th>0</th>\n",
              "      <td>0704.0001</td>\n",
              "      <td>c. bal\\'azs, e. l. berger, p. m. nadolsky, c.-...</td>\n",
              "      <td>calculation of prompt diphoton production cros...</td>\n",
              "      <td>a fully differential calculation in perturba...</td>\n",
              "      <td>calculation of prompt diphoton production cros...</td>\n",
              "    </tr>\n",
              "    <tr>\n",
              "      <th>1</th>\n",
              "      <td>0704.0002</td>\n",
              "      <td>ileana streinu and louis theran</td>\n",
              "      <td>sparsity-certifying graph decompositions</td>\n",
              "      <td>we describe a new algorithm, the $(k,\\ell)$-...</td>\n",
              "      <td>sparsity-certifying graph decompositions we de...</td>\n",
              "    </tr>\n",
              "    <tr>\n",
              "      <th>2</th>\n",
              "      <td>0704.0003</td>\n",
              "      <td>hongjun pan</td>\n",
              "      <td>the evolution of the earth-moon system based o...</td>\n",
              "      <td>the evolution of earth-moon system is descri...</td>\n",
              "      <td>the evolution of the earth-moon system based o...</td>\n",
              "    </tr>\n",
              "    <tr>\n",
              "      <th>3</th>\n",
              "      <td>0704.0004</td>\n",
              "      <td>david callan</td>\n",
              "      <td>a determinant of stirling cycle numbers counts...</td>\n",
              "      <td>we show that a determinant of stirling cycle...</td>\n",
              "      <td>a determinant of stirling cycle numbers counts...</td>\n",
              "    </tr>\n",
              "    <tr>\n",
              "      <th>4</th>\n",
              "      <td>0704.0005</td>\n",
              "      <td>wael abu-shammala and alberto torchinsky</td>\n",
              "      <td>from dyadic $\\lambda_{\\alpha}$ to $\\lambda_{\\a...</td>\n",
              "      <td>in this paper we show how to compute the $\\l...</td>\n",
              "      <td>from dyadic $\\lambda_{\\alpha}$ to $\\lambda_{\\a...</td>\n",
              "    </tr>\n",
              "  </tbody>\n",
              "</table>\n",
              "</div>\n",
              "      <button class=\"colab-df-convert\" onclick=\"convertToInteractive('df-a70034cb-6523-42e0-8cd9-7688c23b83d8')\"\n",
              "              title=\"Convert this dataframe to an interactive table.\"\n",
              "              style=\"display:none;\">\n",
              "        \n",
              "  <svg xmlns=\"http://www.w3.org/2000/svg\" height=\"24px\"viewBox=\"0 0 24 24\"\n",
              "       width=\"24px\">\n",
              "    <path d=\"M0 0h24v24H0V0z\" fill=\"none\"/>\n",
              "    <path d=\"M18.56 5.44l.94 2.06.94-2.06 2.06-.94-2.06-.94-.94-2.06-.94 2.06-2.06.94zm-11 1L8.5 8.5l.94-2.06 2.06-.94-2.06-.94L8.5 2.5l-.94 2.06-2.06.94zm10 10l.94 2.06.94-2.06 2.06-.94-2.06-.94-.94-2.06-.94 2.06-2.06.94z\"/><path d=\"M17.41 7.96l-1.37-1.37c-.4-.4-.92-.59-1.43-.59-.52 0-1.04.2-1.43.59L10.3 9.45l-7.72 7.72c-.78.78-.78 2.05 0 2.83L4 21.41c.39.39.9.59 1.41.59.51 0 1.02-.2 1.41-.59l7.78-7.78 2.81-2.81c.8-.78.8-2.07 0-2.86zM5.41 20L4 18.59l7.72-7.72 1.47 1.35L5.41 20z\"/>\n",
              "  </svg>\n",
              "      </button>\n",
              "      \n",
              "  <style>\n",
              "    .colab-df-container {\n",
              "      display:flex;\n",
              "      flex-wrap:wrap;\n",
              "      gap: 12px;\n",
              "    }\n",
              "\n",
              "    .colab-df-convert {\n",
              "      background-color: #E8F0FE;\n",
              "      border: none;\n",
              "      border-radius: 50%;\n",
              "      cursor: pointer;\n",
              "      display: none;\n",
              "      fill: #1967D2;\n",
              "      height: 32px;\n",
              "      padding: 0 0 0 0;\n",
              "      width: 32px;\n",
              "    }\n",
              "\n",
              "    .colab-df-convert:hover {\n",
              "      background-color: #E2EBFA;\n",
              "      box-shadow: 0px 1px 2px rgba(60, 64, 67, 0.3), 0px 1px 3px 1px rgba(60, 64, 67, 0.15);\n",
              "      fill: #174EA6;\n",
              "    }\n",
              "\n",
              "    [theme=dark] .colab-df-convert {\n",
              "      background-color: #3B4455;\n",
              "      fill: #D2E3FC;\n",
              "    }\n",
              "\n",
              "    [theme=dark] .colab-df-convert:hover {\n",
              "      background-color: #434B5C;\n",
              "      box-shadow: 0px 1px 3px 1px rgba(0, 0, 0, 0.15);\n",
              "      filter: drop-shadow(0px 1px 2px rgba(0, 0, 0, 0.3));\n",
              "      fill: #FFFFFF;\n",
              "    }\n",
              "  </style>\n",
              "\n",
              "      <script>\n",
              "        const buttonEl =\n",
              "          document.querySelector('#df-a70034cb-6523-42e0-8cd9-7688c23b83d8 button.colab-df-convert');\n",
              "        buttonEl.style.display =\n",
              "          google.colab.kernel.accessAllowed ? 'block' : 'none';\n",
              "\n",
              "        async function convertToInteractive(key) {\n",
              "          const element = document.querySelector('#df-a70034cb-6523-42e0-8cd9-7688c23b83d8');\n",
              "          const dataTable =\n",
              "            await google.colab.kernel.invokeFunction('convertToInteractive',\n",
              "                                                     [key], {});\n",
              "          if (!dataTable) return;\n",
              "\n",
              "          const docLinkHtml = 'Like what you see? Visit the ' +\n",
              "            '<a target=\"_blank\" href=https://colab.research.google.com/notebooks/data_table.ipynb>data table notebook</a>'\n",
              "            + ' to learn more about interactive tables.';\n",
              "          element.innerHTML = '';\n",
              "          dataTable['output_type'] = 'display_data';\n",
              "          await google.colab.output.renderOutput(dataTable, element);\n",
              "          const docLink = document.createElement('div');\n",
              "          docLink.innerHTML = docLinkHtml;\n",
              "          element.appendChild(docLink);\n",
              "        }\n",
              "      </script>\n",
              "    </div>\n",
              "  </div>\n",
              "  "
            ]
          },
          "metadata": {},
          "execution_count": 11
        }
      ]
    },
    {
      "cell_type": "code",
      "source": [
        "# ps=PorterStemmer()"
      ],
      "metadata": {
        "id": "SZHuge87Xi2v"
      },
      "execution_count": null,
      "outputs": []
    },
    {
      "cell_type": "code",
      "source": [
        "def lemmatize(text):\n",
        "    lemmatizer = WordNetLemmatizer()\n",
        "    y = []\n",
        "    for i in text.split():\n",
        "        y.append(lemmatizer.lemmatize(i))\n",
        "\n",
        "    return \" \".join(y)\n",
        "\n",
        "paper['tags']=paper['tags'].apply(lemmatize)\n",
        "paper.head()"
      ],
      "metadata": {
        "colab": {
          "base_uri": "https://localhost:8080/",
          "height": 206
        },
        "id": "Orfem8lMXi37",
        "outputId": "62b022a5-a62c-4473-ef7d-2b9e58ddec83"
      },
      "execution_count": null,
      "outputs": [
        {
          "output_type": "execute_result",
          "data": {
            "text/plain": [
              "          id                                            authors  \\\n",
              "0  0704.0001  c. bal\\'azs, e. l. berger, p. m. nadolsky, c.-...   \n",
              "1  0704.0002                    ileana streinu and louis theran   \n",
              "2  0704.0003                                        hongjun pan   \n",
              "3  0704.0004                                       david callan   \n",
              "4  0704.0005           wael abu-shammala and alberto torchinsky   \n",
              "\n",
              "                                               title  \\\n",
              "0  calculation of prompt diphoton production cros...   \n",
              "1           sparsity-certifying graph decompositions   \n",
              "2  the evolution of the earth-moon system based o...   \n",
              "3  a determinant of stirling cycle numbers counts...   \n",
              "4  from dyadic $\\lambda_{\\alpha}$ to $\\lambda_{\\a...   \n",
              "\n",
              "                                            abstract  \\\n",
              "0    a fully differential calculation in perturba...   \n",
              "1    we describe a new algorithm, the $(k,\\ell)$-...   \n",
              "2    the evolution of earth-moon system is descri...   \n",
              "3    we show that a determinant of stirling cycle...   \n",
              "4    in this paper we show how to compute the $\\l...   \n",
              "\n",
              "                                                tags  \n",
              "0  calculation of prompt diphoton production cros...  \n",
              "1  sparsity-certifying graph decomposition we des...  \n",
              "2  the evolution of the earth-moon system based o...  \n",
              "3  a determinant of stirling cycle number count u...  \n",
              "4  from dyadic $\\lambda_{\\alpha}$ to $\\lambda_{\\a...  "
            ],
            "text/html": [
              "\n",
              "  <div id=\"df-0b02e5e4-8b2d-429a-9a02-50019f35f57d\">\n",
              "    <div class=\"colab-df-container\">\n",
              "      <div>\n",
              "<style scoped>\n",
              "    .dataframe tbody tr th:only-of-type {\n",
              "        vertical-align: middle;\n",
              "    }\n",
              "\n",
              "    .dataframe tbody tr th {\n",
              "        vertical-align: top;\n",
              "    }\n",
              "\n",
              "    .dataframe thead th {\n",
              "        text-align: right;\n",
              "    }\n",
              "</style>\n",
              "<table border=\"1\" class=\"dataframe\">\n",
              "  <thead>\n",
              "    <tr style=\"text-align: right;\">\n",
              "      <th></th>\n",
              "      <th>id</th>\n",
              "      <th>authors</th>\n",
              "      <th>title</th>\n",
              "      <th>abstract</th>\n",
              "      <th>tags</th>\n",
              "    </tr>\n",
              "  </thead>\n",
              "  <tbody>\n",
              "    <tr>\n",
              "      <th>0</th>\n",
              "      <td>0704.0001</td>\n",
              "      <td>c. bal\\'azs, e. l. berger, p. m. nadolsky, c.-...</td>\n",
              "      <td>calculation of prompt diphoton production cros...</td>\n",
              "      <td>a fully differential calculation in perturba...</td>\n",
              "      <td>calculation of prompt diphoton production cros...</td>\n",
              "    </tr>\n",
              "    <tr>\n",
              "      <th>1</th>\n",
              "      <td>0704.0002</td>\n",
              "      <td>ileana streinu and louis theran</td>\n",
              "      <td>sparsity-certifying graph decompositions</td>\n",
              "      <td>we describe a new algorithm, the $(k,\\ell)$-...</td>\n",
              "      <td>sparsity-certifying graph decomposition we des...</td>\n",
              "    </tr>\n",
              "    <tr>\n",
              "      <th>2</th>\n",
              "      <td>0704.0003</td>\n",
              "      <td>hongjun pan</td>\n",
              "      <td>the evolution of the earth-moon system based o...</td>\n",
              "      <td>the evolution of earth-moon system is descri...</td>\n",
              "      <td>the evolution of the earth-moon system based o...</td>\n",
              "    </tr>\n",
              "    <tr>\n",
              "      <th>3</th>\n",
              "      <td>0704.0004</td>\n",
              "      <td>david callan</td>\n",
              "      <td>a determinant of stirling cycle numbers counts...</td>\n",
              "      <td>we show that a determinant of stirling cycle...</td>\n",
              "      <td>a determinant of stirling cycle number count u...</td>\n",
              "    </tr>\n",
              "    <tr>\n",
              "      <th>4</th>\n",
              "      <td>0704.0005</td>\n",
              "      <td>wael abu-shammala and alberto torchinsky</td>\n",
              "      <td>from dyadic $\\lambda_{\\alpha}$ to $\\lambda_{\\a...</td>\n",
              "      <td>in this paper we show how to compute the $\\l...</td>\n",
              "      <td>from dyadic $\\lambda_{\\alpha}$ to $\\lambda_{\\a...</td>\n",
              "    </tr>\n",
              "  </tbody>\n",
              "</table>\n",
              "</div>\n",
              "      <button class=\"colab-df-convert\" onclick=\"convertToInteractive('df-0b02e5e4-8b2d-429a-9a02-50019f35f57d')\"\n",
              "              title=\"Convert this dataframe to an interactive table.\"\n",
              "              style=\"display:none;\">\n",
              "        \n",
              "  <svg xmlns=\"http://www.w3.org/2000/svg\" height=\"24px\"viewBox=\"0 0 24 24\"\n",
              "       width=\"24px\">\n",
              "    <path d=\"M0 0h24v24H0V0z\" fill=\"none\"/>\n",
              "    <path d=\"M18.56 5.44l.94 2.06.94-2.06 2.06-.94-2.06-.94-.94-2.06-.94 2.06-2.06.94zm-11 1L8.5 8.5l.94-2.06 2.06-.94-2.06-.94L8.5 2.5l-.94 2.06-2.06.94zm10 10l.94 2.06.94-2.06 2.06-.94-2.06-.94-.94-2.06-.94 2.06-2.06.94z\"/><path d=\"M17.41 7.96l-1.37-1.37c-.4-.4-.92-.59-1.43-.59-.52 0-1.04.2-1.43.59L10.3 9.45l-7.72 7.72c-.78.78-.78 2.05 0 2.83L4 21.41c.39.39.9.59 1.41.59.51 0 1.02-.2 1.41-.59l7.78-7.78 2.81-2.81c.8-.78.8-2.07 0-2.86zM5.41 20L4 18.59l7.72-7.72 1.47 1.35L5.41 20z\"/>\n",
              "  </svg>\n",
              "      </button>\n",
              "      \n",
              "  <style>\n",
              "    .colab-df-container {\n",
              "      display:flex;\n",
              "      flex-wrap:wrap;\n",
              "      gap: 12px;\n",
              "    }\n",
              "\n",
              "    .colab-df-convert {\n",
              "      background-color: #E8F0FE;\n",
              "      border: none;\n",
              "      border-radius: 50%;\n",
              "      cursor: pointer;\n",
              "      display: none;\n",
              "      fill: #1967D2;\n",
              "      height: 32px;\n",
              "      padding: 0 0 0 0;\n",
              "      width: 32px;\n",
              "    }\n",
              "\n",
              "    .colab-df-convert:hover {\n",
              "      background-color: #E2EBFA;\n",
              "      box-shadow: 0px 1px 2px rgba(60, 64, 67, 0.3), 0px 1px 3px 1px rgba(60, 64, 67, 0.15);\n",
              "      fill: #174EA6;\n",
              "    }\n",
              "\n",
              "    [theme=dark] .colab-df-convert {\n",
              "      background-color: #3B4455;\n",
              "      fill: #D2E3FC;\n",
              "    }\n",
              "\n",
              "    [theme=dark] .colab-df-convert:hover {\n",
              "      background-color: #434B5C;\n",
              "      box-shadow: 0px 1px 3px 1px rgba(0, 0, 0, 0.15);\n",
              "      filter: drop-shadow(0px 1px 2px rgba(0, 0, 0, 0.3));\n",
              "      fill: #FFFFFF;\n",
              "    }\n",
              "  </style>\n",
              "\n",
              "      <script>\n",
              "        const buttonEl =\n",
              "          document.querySelector('#df-0b02e5e4-8b2d-429a-9a02-50019f35f57d button.colab-df-convert');\n",
              "        buttonEl.style.display =\n",
              "          google.colab.kernel.accessAllowed ? 'block' : 'none';\n",
              "\n",
              "        async function convertToInteractive(key) {\n",
              "          const element = document.querySelector('#df-0b02e5e4-8b2d-429a-9a02-50019f35f57d');\n",
              "          const dataTable =\n",
              "            await google.colab.kernel.invokeFunction('convertToInteractive',\n",
              "                                                     [key], {});\n",
              "          if (!dataTable) return;\n",
              "\n",
              "          const docLinkHtml = 'Like what you see? Visit the ' +\n",
              "            '<a target=\"_blank\" href=https://colab.research.google.com/notebooks/data_table.ipynb>data table notebook</a>'\n",
              "            + ' to learn more about interactive tables.';\n",
              "          element.innerHTML = '';\n",
              "          dataTable['output_type'] = 'display_data';\n",
              "          await google.colab.output.renderOutput(dataTable, element);\n",
              "          const docLink = document.createElement('div');\n",
              "          docLink.innerHTML = docLinkHtml;\n",
              "          element.appendChild(docLink);\n",
              "        }\n",
              "      </script>\n",
              "    </div>\n",
              "  </div>\n",
              "  "
            ]
          },
          "metadata": {},
          "execution_count": 13
        }
      ]
    },
    {
      "cell_type": "code",
      "source": [
        "# Vectorizing using Count Vectorizer\n",
        "cv=CountVectorizer(max_features=5000,stop_words='english')\n",
        "vectors_tag=cv.fit_transform(paper['tags']).toarray()\n",
        "vectors_tag"
      ],
      "metadata": {
        "colab": {
          "base_uri": "https://localhost:8080/"
        },
        "id": "6u8x6rxWXi8t",
        "outputId": "7de68568-8281-4483-b932-3fe60c684b2c"
      },
      "execution_count": null,
      "outputs": [
        {
          "output_type": "execute_result",
          "data": {
            "text/plain": [
              "array([[0, 0, 0, ..., 0, 0, 0],\n",
              "       [0, 0, 0, ..., 0, 0, 0],\n",
              "       [0, 0, 0, ..., 0, 0, 0],\n",
              "       ...,\n",
              "       [0, 0, 0, ..., 0, 0, 0],\n",
              "       [0, 0, 0, ..., 0, 0, 0],\n",
              "       [0, 0, 0, ..., 0, 0, 0]])"
            ]
          },
          "metadata": {},
          "execution_count": 14
        }
      ]
    },
    {
      "cell_type": "code",
      "source": [
        "# Applying cosine similarity\n",
        "similarity=cosine_similarity(vectors_tag)"
      ],
      "metadata": {
        "id": "VArRVAaPXjAd"
      },
      "execution_count": null,
      "outputs": []
    },
    {
      "cell_type": "code",
      "source": [
        "# Checking the cosine similraity for first index and taking the top 5 results\n",
        "k=sorted(list(enumerate(similarity[0])), reverse=True, key=lambda x: x[1])[1:6]\n",
        "print(k)"
      ],
      "metadata": {
        "colab": {
          "base_uri": "https://localhost:8080/"
        },
        "id": "cSe0QKQzXjCH",
        "outputId": "43f2a4e1-37d1-4f4c-ae1b-64d5a3daf08b"
      },
      "execution_count": null,
      "outputs": [
        {
          "output_type": "stream",
          "name": "stdout",
          "text": [
            "[(4037, 0.3897164176493666), (1343, 0.33180130000452873), (263, 0.3138514904811289), (4038, 0.288377377801192), (4955, 0.27051435586009814)]\n"
          ]
        }
      ]
    },
    {
      "cell_type": "code",
      "source": [
        "print(\"Enter the query\")\n",
        "query=input()"
      ],
      "metadata": {
        "colab": {
          "base_uri": "https://localhost:8080/"
        },
        "id": "LVSDlX_oXjFi",
        "outputId": "01ee545d-366f-43b6-93f9-8fb08e540a6e"
      },
      "execution_count": null,
      "outputs": [
        {
          "name": "stdout",
          "output_type": "stream",
          "text": [
            "Enter the query\n",
            "differential calculus\n"
          ]
        }
      ]
    },
    {
      "cell_type": "code",
      "source": [
        "# Taking the query and preprocessing it\n",
        "\n",
        "lemmatizer = WordNetLemmatizer()\n",
        "tokens = nltk.word_tokenize(query)\n",
        "lemmatized_query = [lemmatizer.lemmatize(token) for token in tokens]\n",
        "lemmatized_sentence = \" \".join(lemmatized_query)\n",
        "print(lemmatized_sentence)\n"
      ],
      "metadata": {
        "colab": {
          "base_uri": "https://localhost:8080/"
        },
        "id": "M8uC2c2eXjHD",
        "outputId": "65319af0-7208-4cda-eb9f-5767169f8b4b"
      },
      "execution_count": null,
      "outputs": [
        {
          "output_type": "stream",
          "name": "stdout",
          "text": [
            "differential calculus\n"
          ]
        }
      ]
    },
    {
      "cell_type": "code",
      "source": [
        "# Vectroizing the query\n",
        "query_vector = cv.transform([lemmatized_sentence]).toarray()\n",
        "print(query_vector)"
      ],
      "metadata": {
        "colab": {
          "base_uri": "https://localhost:8080/"
        },
        "id": "8AbmqtC8XjKf",
        "outputId": "1506bcdd-5cf1-46ea-9ab4-a766bb2d6609"
      },
      "execution_count": null,
      "outputs": [
        {
          "output_type": "stream",
          "name": "stdout",
          "text": [
            "[[0 0 0 ... 0 0 0]]\n"
          ]
        }
      ]
    },
    {
      "cell_type": "code",
      "source": [
        "# Computing the cosine similarities between the query vector and the title vectors and showing the top 5 results\n",
        "cos_similarities = cosine_similarity(query_vector, vectors_tag)\n",
        "\n",
        "no_of_results = 5\n",
        "similar_indices = cos_similarities.argsort()[0][-no_of_results:]\n",
        "\n",
        "# Print the most similar titles and their cosine similarity scores\n",
        "\n",
        "a=0\n",
        "l_id=[]\n",
        "l_title=[]\n",
        "l_url=[]\n",
        "for i in similar_indices:\n",
        "    id=paper['id'][i]\n",
        "    l_id.append(paper['id'][i])\n",
        "    l_title.append(paper['title'][i])\n",
        "    s=\"https://arxiv.org/pdf/\"+paper['id'][i]\n",
        "    l_url.append(s)"
      ],
      "metadata": {
        "id": "yUwsBy_QXjMG"
      },
      "execution_count": null,
      "outputs": []
    },
    {
      "cell_type": "code",
      "source": [
        "print(\"Query is : \"+query)\n",
        "print()\n",
        "print(\"The recommended papers are: \")\n",
        "print()\n",
        "from tabulate import tabulate\n",
        "x=[]\n",
        "for i in range(len(l_title)):\n",
        "  l=[]\n",
        "  l.append(l_title[i])\n",
        "  l.append(l_url[i])\n",
        "  x.append(l)\n",
        "\n",
        "\n",
        "head=[\"Title\",\"URL\"]\n",
        "print(tabulate(x, headers=head, tablefmt=\"grid\"))\n"
      ],
      "metadata": {
        "colab": {
          "base_uri": "https://localhost:8080/"
        },
        "id": "4jwsoAaMdgPj",
        "outputId": "c71b06a4-5f3c-46c8-a7fe-a1b5c240f6dd"
      },
      "execution_count": null,
      "outputs": [
        {
          "output_type": "stream",
          "name": "stdout",
          "text": [
            "Query is : differential calculus\n",
            "\n",
            "The recommended papers are: \n",
            "\n",
            "+-------------------------------------------------------------------+---------------------------------+\n",
            "| Title                                                             | URL                             |\n",
            "+===================================================================+=================================+\n",
            "| a cut-free sequent calculus for bi-intuitionistic logic: extended | https://arxiv.org/pdf/0704.1707 |\n",
            "|   version                                                         |                                 |\n",
            "+-------------------------------------------------------------------+---------------------------------+\n",
            "| bringing errors into focus                                        | https://arxiv.org/pdf/0705.0519 |\n",
            "+-------------------------------------------------------------------+---------------------------------+\n",
            "| on differential sequences                                         | https://arxiv.org/pdf/0704.3243 |\n",
            "+-------------------------------------------------------------------+---------------------------------+\n",
            "| on the (3,n) maurer-cartan equation                               | https://arxiv.org/pdf/0704.0824 |\n",
            "+-------------------------------------------------------------------+---------------------------------+\n",
            "| the loewner driving function of trajectory arcs of quadratic      | https://arxiv.org/pdf/0704.1933 |\n",
            "|   differentials                                                   |                                 |\n",
            "+-------------------------------------------------------------------+---------------------------------+\n"
          ]
        }
      ]
    },
    {
      "cell_type": "code",
      "source": [],
      "metadata": {
        "id": "of6LGJGXQJo2"
      },
      "execution_count": null,
      "outputs": []
    },
    {
      "cell_type": "code",
      "source": [],
      "metadata": {
        "id": "-HJgr2ItdjbA"
      },
      "execution_count": null,
      "outputs": []
    },
    {
      "cell_type": "markdown",
      "source": [
        "# Text Summarization"
      ],
      "metadata": {
        "id": "rTciKaFiedsd"
      }
    },
    {
      "cell_type": "code",
      "source": [
        "pip install spellchecker"
      ],
      "metadata": {
        "colab": {
          "base_uri": "https://localhost:8080/"
        },
        "id": "Ek-eVsXregIZ",
        "outputId": "5a323d29-b1ba-49ba-b8a9-6b5444aa3a94"
      },
      "execution_count": null,
      "outputs": [
        {
          "output_type": "stream",
          "name": "stdout",
          "text": [
            "Looking in indexes: https://pypi.org/simple, https://us-python.pkg.dev/colab-wheels/public/simple/\n",
            "Collecting spellchecker\n",
            "  Downloading spellchecker-0.4.tar.gz (3.9 MB)\n",
            "\u001b[2K     \u001b[90m━━━━━━━━━━━━━━━━━━━━━━━━━━━━━━━━━━━━━━━━\u001b[0m \u001b[32m3.9/3.9 MB\u001b[0m \u001b[31m47.4 MB/s\u001b[0m eta \u001b[36m0:00:00\u001b[0m\n",
            "\u001b[?25h  Preparing metadata (setup.py) ... \u001b[?25l\u001b[?25hdone\n",
            "Requirement already satisfied: setuptools in /usr/local/lib/python3.9/dist-packages (from spellchecker) (67.6.1)\n",
            "Collecting inexactsearch\n",
            "  Downloading inexactsearch-1.0.2.tar.gz (21 kB)\n",
            "  Preparing metadata (setup.py) ... \u001b[?25l\u001b[?25hdone\n",
            "Collecting soundex>=1.0\n",
            "  Downloading soundex-1.1.3.tar.gz (9.1 kB)\n",
            "  Preparing metadata (setup.py) ... \u001b[?25l\u001b[?25hdone\n",
            "Collecting silpa_common>=0.3\n",
            "  Downloading silpa_common-0.3.tar.gz (9.4 kB)\n",
            "  Preparing metadata (setup.py) ... \u001b[?25l\u001b[?25hdone\n",
            "Building wheels for collected packages: spellchecker, inexactsearch, silpa_common, soundex\n",
            "  Building wheel for spellchecker (setup.py) ... \u001b[?25l\u001b[?25hdone\n",
            "  Created wheel for spellchecker: filename=spellchecker-0.4-py3-none-any.whl size=3966516 sha256=34ae43b9bf55deaf66e272fac2cb4002f812ef44373e869708d82c4a3cda30fd\n",
            "  Stored in directory: /root/.cache/pip/wheels/8c/52/b3/8795c86fe999a3b1a7d0f1b75a197fd984e37057cb537e2977\n",
            "  Building wheel for inexactsearch (setup.py) ... \u001b[?25l\u001b[?25hdone\n",
            "  Created wheel for inexactsearch: filename=inexactsearch-1.0.2-py3-none-any.whl size=7141 sha256=8a4ab8ad62c6e1244168923e2a8fe5b8f9fc7d191c107abe66514c382b03b9f7\n",
            "  Stored in directory: /root/.cache/pip/wheels/da/15/83/b2b0adf6ebb17b0c7b8de4a901f0585ceb7627788a80071de0\n",
            "  Building wheel for silpa_common (setup.py) ... \u001b[?25l\u001b[?25hdone\n",
            "  Created wheel for silpa_common: filename=silpa_common-0.3-py3-none-any.whl size=8480 sha256=62d4a60bcdf91ce2970654a50d7c42fa4f388e2fc095f81ae0b543d1e4321d54\n",
            "  Stored in directory: /root/.cache/pip/wheels/a6/6f/59/e83ae5c4ca78098dbecd1708dc7cd6856f202c0a008d8c3340\n",
            "  Building wheel for soundex (setup.py) ... \u001b[?25l\u001b[?25hdone\n",
            "  Created wheel for soundex: filename=soundex-1.1.3-py3-none-any.whl size=8893 sha256=20c1b50d69d044b18350dc13f3748a1df17006642f08a650ba2a9f4bee2ab1d9\n",
            "  Stored in directory: /root/.cache/pip/wheels/e8/fb/75/027059566520e35a1388cc49b69c84f6a28c4d530a5944ff55\n",
            "Successfully built spellchecker inexactsearch silpa_common soundex\n",
            "Installing collected packages: silpa_common, soundex, inexactsearch, spellchecker\n",
            "Successfully installed inexactsearch-1.0.2 silpa_common-0.3 soundex-1.1.3 spellchecker-0.4\n"
          ]
        }
      ]
    },
    {
      "cell_type": "code",
      "source": [
        "pip install gensim==3.8.3"
      ],
      "metadata": {
        "colab": {
          "base_uri": "https://localhost:8080/"
        },
        "id": "cMQaWPYfeidx",
        "outputId": "cb97ad77-5446-45ad-b481-3503510493f9"
      },
      "execution_count": null,
      "outputs": [
        {
          "output_type": "stream",
          "name": "stdout",
          "text": [
            "Looking in indexes: https://pypi.org/simple, https://us-python.pkg.dev/colab-wheels/public/simple/\n",
            "Collecting gensim==3.8.3\n",
            "  Downloading gensim-3.8.3.tar.gz (23.4 MB)\n",
            "\u001b[2K     \u001b[90m━━━━━━━━━━━━━━━━━━━━━━━━━━━━━━━━━━━━━━━━\u001b[0m \u001b[32m23.4/23.4 MB\u001b[0m \u001b[31m26.6 MB/s\u001b[0m eta \u001b[36m0:00:00\u001b[0m\n",
            "\u001b[?25h  Preparing metadata (setup.py) ... \u001b[?25l\u001b[?25hdone\n",
            "Requirement already satisfied: numpy>=1.11.3 in /usr/local/lib/python3.9/dist-packages (from gensim==3.8.3) (1.22.4)\n",
            "Requirement already satisfied: scipy>=0.18.1 in /usr/local/lib/python3.9/dist-packages (from gensim==3.8.3) (1.10.1)\n",
            "Requirement already satisfied: six>=1.5.0 in /usr/local/lib/python3.9/dist-packages (from gensim==3.8.3) (1.16.0)\n",
            "Requirement already satisfied: smart_open>=1.8.1 in /usr/local/lib/python3.9/dist-packages (from gensim==3.8.3) (6.3.0)\n",
            "Building wheels for collected packages: gensim\n",
            "  Building wheel for gensim (setup.py) ... \u001b[?25l\u001b[?25hdone\n",
            "  Created wheel for gensim: filename=gensim-3.8.3-cp39-cp39-linux_x86_64.whl size=26528019 sha256=49f78c5cc994bfd8dc1bd9659958d1cb3470b0af3c5e67ffbec985e7adb1069f\n",
            "  Stored in directory: /root/.cache/pip/wheels/ca/5d/af/618594ec2f28608c1d6ee7d2b7e95a3e9b06551e3b80a491d6\n",
            "Successfully built gensim\n",
            "Installing collected packages: gensim\n",
            "  Attempting uninstall: gensim\n",
            "    Found existing installation: gensim 4.3.1\n",
            "    Uninstalling gensim-4.3.1:\n",
            "      Successfully uninstalled gensim-4.3.1\n",
            "Successfully installed gensim-3.8.3\n"
          ]
        }
      ]
    },
    {
      "cell_type": "code",
      "source": [
        "pip install PyPDF2"
      ],
      "metadata": {
        "colab": {
          "base_uri": "https://localhost:8080/"
        },
        "id": "1nlZz73s53Lh",
        "outputId": "07b77117-f743-45f8-c25d-b3b574bc48a0"
      },
      "execution_count": 1,
      "outputs": [
        {
          "output_type": "stream",
          "name": "stdout",
          "text": [
            "Looking in indexes: https://pypi.org/simple, https://us-python.pkg.dev/colab-wheels/public/simple/\n",
            "Collecting PyPDF2\n",
            "  Downloading pypdf2-3.0.1-py3-none-any.whl (232 kB)\n",
            "\u001b[2K     \u001b[90m━━━━━━━━━━━━━━━━━━━━━━━━━━━━━━━━━━━━━━━\u001b[0m \u001b[32m232.6/232.6 kB\u001b[0m \u001b[31m5.8 MB/s\u001b[0m eta \u001b[36m0:00:00\u001b[0m\n",
            "\u001b[?25hRequirement already satisfied: typing_extensions>=3.10.0.0 in /usr/local/lib/python3.9/dist-packages (from PyPDF2) (4.5.0)\n",
            "Installing collected packages: PyPDF2\n",
            "Successfully installed PyPDF2-3.0.1\n"
          ]
        }
      ]
    },
    {
      "cell_type": "code",
      "source": [
        "import re\n",
        "import os\n",
        "from PyPDF2 import PdfReader\n",
        "# from transformers import pipeline \n",
        "import pandas as pd\n",
        "\n",
        "import requests\n",
        "#from gensim.summarization.summarizer import summarize\n",
        "#from gensim.summarization import keywords\n",
        "import en_core_web_sm\n",
        "import warnings\n",
        "warnings.filterwarnings('ignore')"
      ],
      "metadata": {
        "id": "uqqktG_Ge3oc"
      },
      "execution_count": 2,
      "outputs": []
    },
    {
      "cell_type": "code",
      "source": [
        "import shutil\n",
        "shutil.rmtree('/content/download_data/', ignore_errors=True)\n",
        "os.mkdir(\"/content/download_data/\")"
      ],
      "metadata": {
        "id": "mIlnTpF2e5h7"
      },
      "execution_count": 3,
      "outputs": []
    },
    {
      "cell_type": "code",
      "source": [
        "# # Downloading the file chosen by the user\n",
        "# def download_pdf_file(url: str) -> bool:\n",
        "#   response = requests.get(url, stream=True)\n",
        "#   pdf_file_name = os.path.basename(url)\n",
        "#   if response.status_code == 200:\n",
        "#     filepath = os.path.join(\"/content/download_data\", pdf_file_name)\n",
        "#     with open(filepath, 'wb') as pdf_object:\n",
        "#       pdf_object.write(response.content)\n",
        "#       print(f'{pdf_file_name} was successfully saved!')\n",
        "#       return True\n",
        "#   else:\n",
        "#     print(f'Uh oh! Could not download {pdf_file_name},')\n",
        "#     print(f'HTTP response status code: {response.status_code}')\n",
        "#     return False\n",
        "\n",
        "# if __name__ == '__main__':\n",
        "#   URL = 'https://arxiv.org/pdf/0704.0047.pdf'\n",
        "#   download_pdf_file(URL)"
      ],
      "metadata": {
        "id": "oJUhMMLPe9XU"
      },
      "execution_count": null,
      "outputs": []
    },
    {
      "cell_type": "code",
      "source": [
        "# Reading the contents of the paper's pdf\n",
        "final = []\n",
        "files = os.listdir('/content/download_data/')\n",
        "c=0\n",
        "for file in files:\n",
        "  lst = []\n",
        "  print(file)\n",
        "  if c<2:\n",
        "    pdf_reader = PdfReader('/content/download_data/'+file)\n",
        "    num_pages = len(pdf_reader.pages)\n",
        "    content = \"\"\n",
        "    for page in range(num_pages):\n",
        "        pdf_page = pdf_reader.pages[page]\n",
        "        text = pdf_page.extract_text()\n",
        "        content += text\n",
        "    lst.append(content)\n",
        "    final.append(lst)\n",
        "content"
      ],
      "metadata": {
        "colab": {
          "base_uri": "https://localhost:8080/",
          "height": 237
        },
        "id": "EoUN03BkfUTj",
        "outputId": "79d42502-40fc-47f8-ff4f-f14069678cc4"
      },
      "execution_count": null,
      "outputs": [
        {
          "output_type": "stream",
          "name": "stdout",
          "text": [
            "0705.1309.pdf\n"
          ]
        },
        {
          "output_type": "execute_result",
          "data": {
            "text/plain": [
              "'arXiv:0705.1309v1  [cs.AI]  9 May 2007Robust Multi-CellularDevelopmentalDesign\\nto appear in D. Thierens et al., Eds., Proceedings of GECCO’0 7, ACM Press, July 2007\\nAlexandre Devert\\nTAO/LRI ;INRIAFuturs,\\nCNRS, Univ Paris-Sud\\nF-91405,France\\ndevert@lri.frNicolas Bredeche\\nTAO /LRI;Univ Paris-Sud,\\nCNRS,INRIA Futurs\\nF-91405,France\\nbredeche@lri.frMarc Schoenauer\\nTAO /LRI;INRIA Futurs,\\nCNRS,Univ Paris-Sud\\nF-91405,France\\nmarc@lri.fr\\nABSTRACT\\nThis paper introduces a continuous model for Multi-cellula r\\nDevelopmental Design. The cells are ﬁxed on a 2D grid\\nand exchange ”chemicals” with their neighbors during the\\ngrowth process. The quantity of chemicals that a cell pro-\\nduces, as well as the diﬀerentiation value of the cell in the\\nphenotype, are controlled by a Neural Network (the geno-\\ntype) that takes as inputs the chemicals produced by the\\nneighboring cells at the previous time step. In the proposed\\nmodel, the number of iterations of the growth process is not\\npre-determined, but emerges during evolution: only organ-\\nisms for which the growth process stabilizes give a phenotyp e\\n(the stable state), others are declared nonviable. The opti -\\nmization of the controller is done using the NEAT algorithm,\\nthat optimizes both the topology and the weights of the Neu-\\nral Networks. Though each cell only receives local informa-\\ntion from its neighbors, the experimental results of the pro -\\nposed approach on the ’ﬂags’ problems (the phenotype must\\nmatch a given 2D pattern) are almost as good as those of a\\ndirect regression approach using the same model with global\\ninformation. Moreover, the resulting multi-cellular orga n-\\nisms exhibit almost perfect self-healing characteristics .\\n1. INTRODUCTION\\nEvolutionary Design uses Evolutionary Algorithms to de-\\nsign various structures (e.g. solid objects, mechanical st ruc-\\ntures, robots, ...). It has been known for long [11] that the\\nchoice of a representation, i.e. of the space to search in, is\\ncrucial for the success of any Evolutionary Algorithm. But\\nthis issue is even more critical in Evolutionary Design. On\\nthe one hand, the success of a design procedure is not only\\nmeasured by the optimality, for some physical criteria, of t he\\nproposed solutions, but also by the creative side of the pro-\\ncess: a rich (i.e. large) search space is hence mandatory. Bu t\\non the other hand, because scalability, and thus re-usabili ty\\nand modularity, are important characteristics of good desi gn\\nmethodologies, the search space should have some structure\\nallowing those properties to emerge.\\nPermission to make digital or hard copies of all or part of thi s work for\\npersonal or classroom use is granted without fee provided th at copies are\\nnot made or distributed for proﬁt or commercial advantage an d that copies\\nbear this notice and thefull citation on the ﬁrstpage. Tocop y otherwise, to\\nrepublish, topostonserversortoredistribute tolists,re quires priorspeciﬁc\\npermission and/or afee.\\nGECCO2007 London, England\\nCopyright 200X ACM X-XXXXX-XX-X/XX/XX ... $5.00.The importance of the type of embryogeny (the mapping\\nfrom genotype to phenotype) of the chosen representation\\nin Evolutionary Design has been highlighted for instance in\\n[3], and more systematically surveyed in [18]. Direct rep-\\nresentations, with no embryogeny (the relation between the\\nphenotype and the genotype is a one-to-one mapping), have\\nbeen very rapidly replaced in the history of Evolutionary\\nDesign by indirect representations, where the embryogeny\\nis an explicit program, generally based on a grammar - and\\nevolution acts on this program. The phenotype is then the\\nresult of the execution of the genotype. Many works have\\nused this type of representation in Evolutionary Design,\\nfrom the seminal works of Gruau [8] and Sims [16] and their\\nmany successfull followers (cited e.g. in [18]). However, e ven\\nthough those representations did to some extent address the\\nissues of modularity, re-usability and scalability, there was\\nstill room for improvement. First, the scalability is still an\\nissue, possibly because the bigger the structure, the more\\ndiﬃcult it is to ﬁne-tune it through the variation operators ,\\ndue to the uncontrolled causality (the eﬀect of small muta-\\ntions is not always small). Second, the embryogeny itself,\\nand hence the resulting structures, are not robust to per-\\nturbations [2], an important characteristic when it comes t o\\ndesign autonomous systems such as robots.\\nIn order to address those issues, several recent works have\\nchosen to use multicellular developmental models: the em-\\nbryogeny is implicit, based on exchanges of some ’chemicals ’\\nbetween ’cells’, and more or less faithfully connected to Tu r-\\ning’s early ’reaction-diﬀusion’ model [19] (see again [18] , and\\nthe more recent works cited in Section 4). But several in-\\nstances of this model have been proposed, and a number of\\nissues remain open, if not unsolved: Is the number of cells\\nﬁxed, and the structure is then the result of their diﬀerenti a-\\ntion, or is the whole organism growing from a single cell? Do\\nthe chemicals diﬀuse on a given ’substrate’ or only through\\nthe interactions and exchanges among neighboring cells –\\nand is the topology of cell interactions ﬁxed, evolved, or ha s\\nit emerged during the development process? What is the\\ngranularity of the possible values of chemical concentrati ons\\nor quantities? When and how does development stop (the\\n’halting problem’ of developmental approaches)? Finally,\\nmaybe the most important issue when it comes to evolve\\nsuch embryogenies: what kind of ’reaction’ takes place in\\neach cell – or, from an operational point of view, what type\\nof controller is used within each cell, and subject to evolu-\\ntion?\\nAll those questions are of course interwined (e.g. you\\ndon’t use the same type of controller depending on the typeof values you intend to evolve). However, and whatever the\\nchoices when answering the above questions, most works\\nevolving multi-cellular developmental models report conv inc-\\ning results as far as scalability is concerned [7, 5], as well\\nas unexpected robustness properties [14, 2, 6]. Indeed, eve n\\nthough the self-repairing capacities of the biological sys tems\\nthat inspired those models were one motivation for choosing\\nthe developmental approach, self-healing properties were not\\nexplicitly included on the ﬁtnesses, and initially appeare d as\\na side-eﬀect rather than a target feature (see Section 4 for\\na more detailed discussion).\\nThis paper proposes yet another model for Multicellular\\nDevelopmental Evolutionary Design. A ﬁxed number of cells\\nplaced on a two-dimensional grid is controlled by a Neural\\nNetwork. Cells only communicate with their 4 neighbors,\\nand exchange (real-valued) quantities of chemicals. In con -\\ntrast with previous works (but this will be discussed in more\\ndetail in Section 4), the phenotypic function of a cell (its\\ntype) is one of the outputs of the controller, i.e. is evolved\\ntogether with the ’chemical reactions’. Moreover, the halt -\\ning problem is implicitly left open and solved by evolution\\nitself: development continues until the dynamical system\\n(the set of cells) comes to a ﬁxed point (or after a –large–\\nﬁxed number of iterations). We believe that this is the rea-\\nson for the excellent self-healing properties of the organi sms\\nthat have been evolved using the proposed model: they all\\nrecover almost perfectly from very strong perturbations – a\\nfeature that is worth the additional computational cost in\\nthe early generations of evolution.\\nThe paper is organized as follows: Section 2 introduces the\\ndetails of the proposed model and of its optimization using\\nthe NEAT general-purpose Neural Network evolution algo-\\nrithm [17], that optimizes both the topology and the weights\\nof the network. The approach is then tested in Section 3 on\\nthe well-known ’ﬂag’ benchmark problems, where the tar-\\nget “structure” is a 2D image. A meaningful validation is\\nobtained by comparing the results of the developmental ap-\\nproach to those of the data-ﬁtting approach: the same neural\\noptimization method is used but the inputs are the coordi-\\nnates (x,y) of the cell: indeed, it should not be expected to\\nobtain better results with the developmental approach than\\nwith this direct data-ﬁtting approach. Furthermore, the ex -\\ncellent self-healing properties of the resulting structur es are\\ndemonstrated. Those results are discussed in Section 4 and\\nthe proposed approach is compared to other existing ap-\\nproaches for Multicellular Developmental Design. Finally ,\\nfurther directions of research are sketched in concluding S ec-\\ntion 5.\\n2. DEVELOPMENTAL MODEL\\nThe context of the proposed approach is what is now\\ncalled Multi-Cellular Development Artiﬁcial Embryogeny [ 15]:\\nAnorganism is composed of identical cells; Each cell en-\\ncapsulates a controller (loosely inspired from a biological\\ncell’s regulatory network); All cells, and thus the organis m,\\nare placed in a substrata with a given topology; Cells may\\neventually divide (i.e. create new cells), diﬀerentiate (i .e.\\nassume a predeﬁned function in the phenotype), migrate\\nand/or communicate with one another in the range of their\\nneighborhood.\\nIn the literature there is a clear distinction between ap-\\nproaches that do not rely on cell division, and thus require\\nthat the environment is ﬁlled with cells at startup [2], andapproaches where cells divide and migrate [4, 12]. In both\\ncase however, communication may be performed from one\\ncell to another [2, 4] (direct cell-cell mechanism) or diﬀused\\nthrough the environment [12] (substrata diﬀusion mecha-\\nnism of chemicals ).\\nA cell or group of cells “grows”, or “develops”, by in-\\nteracting with the environment, usually at discrete time\\nsteps. This process stops at some point and the organism is\\nevaluated w.r.t. the target objective. In all the works that\\nare cited above, the growth stop is forced (development is\\nstopped after a predeﬁned number of steps). Deﬁning an\\neﬃcient endogenous stopping criterion can be related to ad-\\ndressing the halting problem for Developmental Embryo-\\ngeny.\\nIn this context, the model proposed in this paper has the\\nfollowing characteristics: a ﬁxed number of cells are posi-\\ntioned on a two-dimensional non-toroidal array (no cell di-\\nvision or migration). The state of each cell is a vector or\\nreal values, and the controller is a Neural Network. Cells\\nproduce a predeﬁned number of ’chemicals’ that diﬀuse by\\na pure cell-cell communication mechanism. Time is dis-\\ncretized, and at each time step, the controller of each cell\\nreceives as inputs the quantities of chemicals produced by i ts\\nneighboring cells (4-neighbors Von Neuman neighborhood is\\nused - boundary cells receive nothing from outside the grid) .\\nThe neural controller takes as external input the chemicals\\nof the neighboring cells and computes a new state for the\\ncell, as well as the concentrations of the chemicals to be sen t\\nto neighboring cells at next time step. No global informa-\\ntion is available or transmitted from one cell to another –\\nthe challenge is to reach a global target behavior from those\\nlocal interactions.\\nAs noted in the introduction, this model can be thought of\\nas a simpliﬁed instance of Turing’s reaction-diﬀusion mode l\\n[19], with discretized time and space. But it can also be\\nconsidered as a very simple model of a Genetic Regulatory\\nNetwork [1]. The topology of the network is ﬁxed, all ’genes’\\nproduce the same ’proteins’, but the activation/inhibitio n of\\nprotein production is given by the (non-linear) neural net-\\nwork function. Finally, looking beyond biological analogi es,\\nthe proposed model can also be seen as a Continuous Cel-\\nlular Automata [20], i.e. cellular automata with continuou s\\nstates and discrete time, more precisely as a Cellular Neu-\\nral Network [10], cellular automata where the update rule\\nfor each cell is given by a neural network, typically used in\\nVLSI design.\\n2.1 The Neural Network Controller\\nIn this work, the state of a cell, that is responsible for\\nfor both its diﬀerentiation (i.e. its phenotypic expressio n)\\nand the communication with other cells though the diﬀu-\\nsion of chemicals, is a vector of real values: a single real\\nvalue (gray level) in the ’ﬂag’ applications described in Se c-\\ntion 3 – though more complex environments could require\\nmore complex diﬀerentiation states. Hence the widely used\\nand studied model of Discrete Time, continuous state, Re-\\ncurrent Neural Network (DTRNN) with sigmoidal transfer\\nfunctions was chosen for the cell controllers. This choice o f\\na Neural Network as a controller of the cells was inspired by\\nthe long-known property that Neural Networks are Univer-\\nsal Approximators [9]. The inputs of the Neural Network\\nare the values of the chemical quantities coming from the 4\\nneighbors of the cell. Its outputs are the state of the cellFigure 1: Schematic view of teh connections be-\\ntween cells in the case of 2 chemicals\\nplus one output per chemical. If there are Nneurons and\\nMexternal inputs, the more general form of update rule at\\ntime step tfor neuron iof a DTRNN is\\nai(t+ 1) = σ(NX\\nj=1wi,jaj(t) +MX\\nj=1zi,jIj(t))\\nEn gnral, l’activation est juste la somme pondre des\\nentres. Ce que tu donnes est la sortie. De plus,\\nIL FAUT DISTINGUER LES ESPECES ??? where\\nai(t) is the activation of neuron iat time t,Ij(t) is the jth\\nexternal input at time t,wi,jis the weight of the connection\\nfrom neuron jto neuron i(0 if no connection exists), zi,jis\\nthe weight of the connection from input jto neuron i, and\\nσ(x) =1\\n1+e−xis the standard sigmoid function.\\nIt is important to note that, even if the neural controller\\nis a feedforward neural network (i.e. there are no loops in\\nthe connection graph), the complete system is nevertheless\\na large recurrent neural network because the exchanges of\\nchemicals between the cells do create loops. In this respect ,\\nthe chemicals can be viewed as an internal memory of the\\nwhole system. Figure 1 shows a schematic view of a cell\\nwith its 4 neighbors, that uses two chemical concentrations\\nto communicate. The cell transmit the same concentrations\\nof each chemical to it neighboring cells, so we have only 2\\noutputs but 8 inputs. An additional output (not shown) is\\nused for the diﬀerentiation value.\\nObviously, this model can be easily extended to any num-\\nber of chemicals, as well as to any dimensions for the state\\nof the cells, allowing diﬀerentiations into more sophistic ated\\nmechanical parts (e.g. robot parts, joints with embedded\\ncontroller, etc).\\n2.2 Controller Optimization\\nEven though the smaller class of simple sigmoidal 3-Layer\\nPerceptron has the Universal Approximator property, de-\\ntermining the number of hidden units for a MLP remains\\nan open issue, and practical studies have demonstrated that\\nexploring the space of more complex topologies (including\\nrecurrent topologies) could be more eﬃcient than just ex-Population size 500\\nMax. number of evaluations 250000\\nReproduction ratio per species 0.2\\nElite size per species 1\\nCrossover prob. 0.15\\nAdd-node mutation prob. 0.01\\nAdd-link mutation prob. 0.01\\nEnable-link mutation prob. 0.045\\nDisable-link mutation prob. 0.045\\nGaussian weights mutation prob. 0.8\\nStd. dev. for Gaussian weight mutation 0.1\\nUniform weights mutation prob. 0.01\\nDistance parameters for ﬁtness sharing 1.0 – 1.0 – 0.2\\nTable 1: NEAT parameters (see [17] for details).\\nperiencing with a one hidden layer perceptron. Moreover,\\nmany algorithms have been proposed for the evolution of\\nNeural Networks, and a good choice for the evolution of cell\\ncontrollers was the NEAT algorithm [17], a state-of-the-art\\nevolutionary NN optimization algorithm that makes it pos-\\nsible to explore both feedforward and recurrent topologies .\\nThis algorithm relies on a direct encoding of neural net-\\nwork topologies that are evolved using a classical evolutio n-\\nary stochastic optimization scheme. The main feature of\\nNEAT is that it explores the topologies from the bottom-up:\\nstarting from the simplest possible topology for the proble m\\nat hand, it performs variations over individuals by adding\\nneurons and connections to networks in such a way that the\\nbehavior of the network is preserved at ﬁrst - this makes it\\npossible to explore topology in a non destructive fashion.\\nOur NEAT implementation has been validated from pub-\\nlished results. For all the experiments in this paper, NEAT\\nparameters have been set to the values given in [17] for solv-\\ning the sample XOR regression anddouble-pole balancing\\ntasks. Those values seemed robust for the problem at hand,\\naccording to a limited parametric study. They are summa-\\nrized in table 1.\\nAs already noted, an interesting feature of NEAT algo-\\nrithm is that it can handle the evolution of both feedfor-\\nward and recurrent neural networks – hence allowing an easy\\ncomparison of both models. Another interesting feature of\\nNEAT is that it allows the user to declare some constraints\\non the topology - in this case, all input and output neurons\\nare forced to be connected to at least one neuron in the\\ncontroller.\\n2.3 Haltingthe GrowthProcess\\nIn Multi-cellular developmental systems, the phenotype\\n(the target structure to be designed, on which the ﬁtness can\\nbe computed) is built from the genotype (the cell-controlle r,\\nhere a Neural Network) through an iterative process: Start-\\ning from a uniform initial condition (here, the activity of\\nall neurons is set to 0), all cells are synchronously updated ,\\nor, more precisely, all neurons of all cells are synchronous ly\\nupdated, in case the neural network is recurrent. But one\\nmajor issues of such iterative process is to determine when\\nto stop.\\nIn most previous approaches (see Section 4), the number\\nof iterations is ﬁxed once and for all by the programmer.\\nHowever, this amounts to adding one additional constraint\\nto the optimization process: Indeed, it is clear that the num -ber of iterations that are necessary to reach a given state\\ndepends on that state, but also on the organism. Moreover,\\nit also most probably should depend on the conditions of\\nthe experiment: the dimension of the grid, the number of\\nchemicals, ...\\nBecause there seems to be no general way to a priori de-\\ntermine the number of iterations that should be allocated to\\nthe organisms to reach a target phenotype, a good solution\\nis probably to leave this parameter free, and to let evolutio n\\ntune it.\\nOne straightforward way to do so would be to compute the\\nﬁtness of the organism at all stages of the iterative process ,\\ni.e. on all intermediate states of the cells. However, becau se\\nsuch computation might be very heavy (for instance when\\ndesigning mechanical structures, one often has to compute\\ntheir ﬁtness using some FEM analysis) this solution has been\\nrejected. On the other hand, if we suppose that cell updates\\nare cheap to compute compared to the actual ﬁtness of a\\nphenotype, it is possible to let the system iterate until it\\nstabilizes. Of course, as is known from the Cellular Au-\\ntomata point of view [20], some systems will never stabilize ,\\nhaving either a chaotic behavior, or approaching some non-\\nstationary attractor. However, one can hope that the set of\\nsystems that actually do reach a ﬁxed point is rich enough\\nto contain good solutions to the problem at hand.\\nThe next challenge is to detect when the system stabilizes.\\nIt is proposes here to compute some energy of the system at\\neach iteration, and to stop when this energy remains con-\\nstant during a certain number of iterations.\\nMore precisely, the energy of the system is computed as\\nthe sum of the activations of all neurons of all cells:\\nE(t) =X\\nallneuronsa(t)2,\\nand the organism is considered stable when E(t) =E(t+\\n1) during a given number of time steps. Of course, a max-\\nimum number of iterations is given, and a genotype that\\nhasn’t converged after that time receives a very bad ﬁtness:\\nsuch genotype has no phenotype, so the ﬁtness cannot even\\nbe computed anyway. After such a ﬁnal stable state for the\\norganism has been reached, it is considered as the phenotype\\nand undergo evaluation.\\n3. EXPERIMENTS\\nEven though the long term goal of Developmental De-\\nsign is to design mechanical structures (bridges, building s,\\nrobots, . ..), the computational cost of mechanical simula-\\ntions makes such applications out of reach at the moment.\\nMoreover, the classical benchmarks that have been used to\\nevaluate developmental approaches in recent works is the\\nﬂag problem , as originally proposed by Miller [13] and later\\nused by other researchers in the ﬁeld [4, 7].\\nThe cells are the square tiles of a rectangular grid, like\\nthe pixels of a digitalized picture. At the end of the devel-\\nopmental phase, the cells must diﬀerentiate into a (general ly\\ndiscrete) color state so that the whole organism matches a\\ngiven target picture. The rule of the game is that cells shoul d\\nof course have no access to information about the target pic-\\nture, or to global informations like their absolute positio n in\\nthe grid. The only feedback from the target is the ﬁtness of\\nthe phenotype, provided by a similarity measure. Pictures\\nwith simple patterns remains the most widely used, like the\\nFrench or Norwegian ﬂags.2-bands 3-bands disc half-discs\\nFigure 2: The four target pictures\\n3.1 OnFitness andFlags\\nThe problem is to deﬁne a similarity measure between\\nthe ﬁnal state of the cells on the grid after diﬀerentiation\\n(i.e. each cell has a color) and the target ﬂag. While most\\nprevious works use discrete states as color values, with 3 or 4\\ndiﬀerent states, the continuous values taken by the cell sta tes\\nin the Neural Network model allow a more precise sampling\\nof the possible colors. Hence all experiments reported in th e\\nfollowing use grayscale pictures with 256 gray levels: the\\noutput of the controller, that is in [0,1], is discretized, a nd\\nthe ﬁtness is computed on the discrete values as follows.\\nThe ﬁtness measure is the similarity between the picture\\ngenerated by the developmental process and the target pic-\\nture. A smooth similarity s(A, B) between two pictures A\\nandBwith both w×hpixels is deﬁned by:\\ns(A, B) =1\\nwhh−1X\\ni=0w−1X\\nj=0(A(i, j)−B(i, j))2\\nThe value s(A,B) lies in [0 ,1], and reaches 1 if A=B.\\nFour 32 ×32 target pictures are used, that can be seen on\\nFigure 2. The ﬁrst picture is a simple 2-bands symmetrical\\npicture with 2 colors. The 3-bands image contains 3 hori-\\nzontal layers of diﬀerent colors, and should be slightly mor e\\ndiﬃcult to retrieve. However, because of the x-y bias of the\\nchosen representation (information is transmitted horizo n-\\ntally or vertically), the last 2 images should be (and will be )\\nmore diﬃcult to grasp, as they contain circular patterns.\\nNote that because scalability is not the primary issue un-\\nder study in this work, only pictures of this medium size\\n(compared to previous work on the ﬂag problem) are used.\\n3.2 The Different Models\\nIn order to explore diﬀerent models within the general\\ncontext described in Section 2, 4 instances of the proposed\\nmodel are experimented with: a feedforward neural network,\\nand 1 chemical, termed 1-ﬀwd , a recurrent neural network\\nwith 1 chemical, termed 1-recurr , a recurrent neural network\\nwith 2 chemicals, termed 2-recurr , a feedforward neural net-\\nwork, and 2 chemicals, termed 2-ﬀwd .\\nHowever, there are (at least) two possible causes of error\\nin the proposed approach: on the one hand, there might\\nnot exist any ﬁxed point of the multi-cellular developmenta l\\nsystems under study that can approximate the target image;\\nbut on the other hand, even if a good solution does exist,\\nthe chosen computation method (evolutionary optimization\\nof a neural network using NEAT) might not be able to ap-\\nproximate it. Note that this situation is common to all com-\\nputational approaches of complex systems: the former error\\nis termed ’modeling error’ and the latter ’method error’. A\\nthird type of error is also reported in numerical experiment s,\\nthe ’numerical error’, due to propagating round-oﬀs, and wi ll\\nbe neglected here.In order to try to discriminate between the modeling er-\\nror and the method error, a ﬁfth model is also run, on the\\nsame test cases and with similar experimental conditions\\nthan the four developmental approaches described above:\\nthe layout is exactly the same (a 2D grid of cells), the same\\nNEAT parameters are used (to evolve a feedforward neu-\\nral network), and selection proceeds using the same ﬁtness.\\nHowever, there is no chemical nor any exchange of informa-\\ntion between neighboring cells, and on the other hand, all\\ncells receive as inputs their (x,y) coordinates on the grid.\\nHence the ﬂag approximation problem is reduced to a sim-\\nple regression problem. In the following, the results of thi s\\nmodel will be considered as reference results, as it is not\\nexpected that any developmental approach can ever beat a\\ntotally informed model using the same NEAT optimization\\ntool. This experiment is termed “ f(x, y) = z “ from now on.\\n3.3 Experimental setup\\nAll 5 models described in previous section have been run\\non the 4 ﬂags showed on Figure 2. All results presented in\\nthe following are statistics over 16 independent runs.\\nAs already said, the evolutionary neural network opti-\\nmizer is NEAT, with the settings that are described in Table\\n1. It is worth noticing that during all runs, no bloat was ever\\nobserved for the NEAT genotypes. The mean size of the\\nnetworks (measured by the total number of edges between\\nneurons) gently grew from its starting value (between 5 and\\n10 depending on the model) to some ﬁnal value below 40\\n– the largest experiment reaching 45. This ﬁrst result con-\\nﬁrms the robustness of this optimization tool, but also, to\\nsome extent, demonstrates the well-posedness of the prob-\\nlems NEAT was solving (bloating for Neural Networks can\\nbe a sign of overﬁtting ill-conditioned data).\\nAs argued in section 2.3, the halting of the growth process\\nis based on the stabilization of the energy of the organism,\\nchecked over some time window. The width of this time win-\\ndow has been set to 8 time-steps in all experiments. How-\\never, because not all networks will stabilize, a maximum\\nnumber of iterations has to be imposed. This maximum\\nnumber was set to 1024, and if no stabilization has occurred\\nat that time, the ﬁtness is set to value 0: as 0 is the worst\\npossible value for the ﬁtness, this amounts to using some\\ndeath penalty for the stabilization constraint.\\nWith such settings, a typical run lasts about one day on a\\n3.4GHz Pentium IV. Though this might seem a huge compu-\\ntational cost, we believe that it is not a critical issue when\\ndesigning real-world structures: On the one hand, design-\\ning mechanical parts is already a time-consuming process,\\ninvolving highly trained engineers – and human time nowa-\\ndays costs much more than CPU time. On the other hand,\\nwhen the structure that is being designed is bound to be\\nbuilt by thousands or millions, a few days represent a very\\nsmall overhead indeed.\\n3.4 Results\\n3.4.1 Comparingﬁtnesses\\nThe statistics for the oﬀ-line results are displayed as the\\nusual box-plots1on Figures 3, 4 and 5 respectively for the\\n1as generated by the R statistical package, see\\nhttp://en.wikipedia.org/wiki/Box plot for a precise\\ndescription.f(x, y) = z 1−ffwd 2−ffwd 1−recurr 2−recurr0.85 0.90 0.95 1.00\\nFigure 3: Oﬀ-line results for the 3-bands problem\\nf(x, y) = z 1−ffwd 2−ffwd 1−recurr 2−recurr0.88 0.92 0.96 1.00\\nFigure 4: Oﬀ-line results for the disc problem\\n3-bands, disc and half-discs problems of Figure 2, and on-\\nline results (the average over the 16 runs of the ﬁtness of\\nthe best-of-generation individuals as evolution progress es)\\nare shown on Figure 6 for the 3-bands problem.\\nThe results for the 2-bands problem are almost identical\\nfor the 5 models, and are not presented here: same aver-\\nage ﬁtness of 0.999, with a slightly larger variance for the\\ndevelopmental approaches (and variance 0 for the regres-\\nsion model). For each setting of the embryogenic approach,\\nthough, some runs were able to ﬁnd a marginally better so-\\nlution than that of the regression model – but without any\\nstatistical signiﬁcance. For the slightly more diﬃcult tar get\\nthree-bands , the reference model is still able to ﬁnd an ex-\\nf(x, y) = z 1−ffwd 2−ffwd 1−recurr 2−recurr0.80 0.85 0.90 0.95\\nFigure 5: Oﬀ-line results for the half-discs problem 0.86 0.88 0.9 0.92 0.94 0.96 0.98 1\\n 0  50000  100000  150000  200000  250000fitness\\nevaluationsf(x, y) = z\\n1-ffwd\\n2-ffwd\\n1-recurr\\n2-recurr\\nFigure 6: Evolution of average of best ﬁtness for\\nthe 3-bands problem. The lowest curve is that of\\nthe1-recurr model , and the 3 indistinguishable curves\\nabove the other 2 are those of the other 3 artiﬁcial\\nembryogeny models.\\nneuron 0 (gray level)\\nneuron 1 (chemical 1)\\nneuron 2 (chemical 2)\\nFigure 7: Development stages on the three-bands\\nproblem for the recurrent NN with 2 chemicals at\\niterations 16, 32 and 44 (columns) for the phenotype\\n(top row), and both chemicals.\\nact solution, as shown in ﬁgure 3, while the 3 embryogenic\\nmodels give nearly optimal individuals.\\nAs expected, the disctarget is diﬃcult for the embryo-\\ngenic approaches: as can be seen on the box-plots (Figure\\n4, all 4 are clearly outperformed by the reference model,\\nthat was not trapped in the same local optimum. The on-\\nline results did not reveal any other conclusion, and are not\\nshown here. It is worth noting that here, experiments using\\n2 chemicals outperform the same model with a single chem-\\nical (with statistically signiﬁcant diﬀerences according to a\\n95% conﬁdence T-test).\\nFinally, the situation is slightly diﬀerent for the half-di scs,\\nthe most diﬃcult target (Figure 5): all embryogenic mod-\\nels are, again, clearly outperformed by the reference model ,\\neven though this model doesn’t reach such a good ﬁtness\\nthan for the disc problem. However, the best results among\\nembryogenic approaches are obtained by the recurrent net-\\nworks, that exhibit a much larger variance, and thus some-\\ntimes reaches much better ﬁtnesses – with a slight advantage\\nfor the 2-chemicals recurrent model in this respect.\\n3.4.2 Halting CriterionandRobustness\\nThe evolved halting criterion is one of the main original\\nfeature of the proposed approach. It thus needs to be studied\\nin detail, especially as it is closely related to the self-he aling\\nproperties, i.e. the robustness with respect to noise durin gneuron 0 (gray level)\\nneuron 1 (chemical 1)\\nneuron 2 (chemical 2)\\nFigure 8: Development stages on the half-discs prob-\\nlem for the recurrent NN with 2 chemicals at iter-\\nations 28, 64 and 122 (columns) for the phenotype\\n(top row), and both chemicals.\\nFigure 9: Self-healing on the three-bands problem\\nfor the recurrent NN and 2 chemicals: Snapshots\\nof the phenotype at iterations 0 (beginning of the\\nperturbation), 4, 11, 17 and 22.\\nthe growth iterations.\\nBecause all organisms are allowed 1024 iterations in their\\ngrowth process, it could be feared that several hundreds ite r-\\nations would be needed before stabilization even for the bes t\\nsolutions found by the algorithm. The total computational\\ncosts would henceforth have been tremendously higher that\\nit already is. The good news is that in all cases, and for\\nall embryogenic models, the whole population rapidly con-\\ntains a large majority of organisms that did stabilize withi n\\na few dozens iterations. Illustrations of the growth proces s\\nare given in Figures 7 and 8. For the easy 3-bands prob-\\nlem, only 44 iterations are needed (and chemical 1 doesn’t\\nchange after the 16th iteration). For the more diﬃcult half-\\ndiscs problem, 122 iterations are needed.\\nBut another important issue is that of robustness: ear-\\nlier works [12, 6] have demonstrated that developmental ap-\\nproaches lead to robust solutions as far as development is\\nconcerned\\nHere, the robustness of the ﬁxed points was checked by\\napplying a centered Gaussian perturbation with unit stan-\\ndard deviation to the states of all neurons. The good news\\nis that for any perturbation, 100% of the feedfoward con-\\ntrollers and 75% of the recurrent controllers return to the\\nvery same state they had before the perturbation. The other\\n25% reccurent controllers returns to a state very close to th e\\none they had before perturbation. An example of perfect\\nand fast self-healing for the three-bands problem is shown in\\nFigure 3.4.2.\\nTo sum up, the embryogenic approach perform often nearly\\nas good as a simple regression ( f(x, y) = z ), if using the same\\noptimizer. The feedforward and the recurrent networks seem\\nhardly distinguishable across the 4 experiments, and a slig ht\\nadvantage of the 2-chemical over the 1-chemical could be hy-\\npothesized. The most interesting result concerns the almos t\\nperfect self-healing property of the resulting organisms.4. RELATED WORKSANDDISCUSSION\\nThis section discusses the proposed approach in the light\\nof other works on multi-cellular embryogenies from the lit-\\nterature.\\nThe pioneering work by Julian Miller [12] belongs to the\\n’duplicating cells’ category: Cells are allowed to duplica te,\\nand growth starts with a single cell. Cells achieve commu-\\nnication by placing chemicals at their location and reading\\nchemicals from their 8 neighbors. Moreover, a hand-written\\nmechanism ensures their diﬀusion on the grid. Each cell can\\nalso diﬀerentiate into one of four cell types (one of the thre e\\ncolors, or the ’dead cell’ tag) and each cell communicates it s\\ntype to neighboring cells. The cell controller is designed a s a\\nboolean logic circuit optimized with Cartesian Genetic Pro -\\ngramming [14] and the task is to ﬁnd an organism that ﬁts\\na 12x9 French ﬂag. Experiments are conducted with a vary-\\ning number of chemicals (from 0 to 4) and results showed\\nthat after 10 iterations, the french ﬂag could be reproduced\\nwith nearly 95% similarity. Even more interesting results\\nconcerning self-repairing showed that with varying pertur -\\nbations, the system could still recover and converge toward\\npatterns that are somewhat similar (though not identical)\\nto the ones it would have achieved without perturbations.\\nIn [4], Diego Federici extends Miller’s work: again, only\\none single cell exists at iteration 0, and duplication is al-\\nlowed. Each cell gets as input the 4 neighboring cell types\\nand one single chemical concentration, resulting here also\\nfrom a hand-written diﬀusion rule. The controller is a multi -\\nlayer perceptron with ﬁxed topology (only the weights are\\noptimized) and the task is to ﬁt a set of 9x6 ﬂags (includ-\\ning the Norwegian ﬂag). One interesting feature is that the\\noptimization process is twisted to favor diversity, and imp le-\\nments a clever problem decomposition scheme named ”mul-\\ntiple embryogenic stages” with convincing results.\\nThe work by Gordon and Bentley [2] diﬀers from previous\\napproaches by considering only communication and diﬀer-\\nentiation in the substrata. The grid starts with a cell at\\nall available grid points, and cells communicate by diﬀusin g\\nchemicals to neighboring cells only. Each cell then receive s\\nas input one chemical concentration, computed as the av-\\nerage of the concentrations of all neighboring cells: hence ,\\nno orientation information is available. In the Cellular Au -\\ntomata context, such system is called a totalistic automa-\\nton. One drawback of this approach is that it requires that\\nsome cells have diﬀerent chemicals concentration at start-\\nup. Furthermore, it makes the whole model biased toward\\nsymmetrical patterns (”four-fold dihedral symmetry”). Th e\\ncontroller is a set of 20 rules that produce one of the four\\nchemicals and sends it towards neighboring cells. The set of\\nrules is represented by a bit vector and is evolved using a\\nclassical bitstring GA. The paper ends with some compar-\\nisons with previous works, namely [4, 12], demonstrating\\ncomparable and sometimes better results. But a possible\\nexplanation for that success could be the above-mentionned\\nbias of the method toward symmetrical patterns.\\nThe approach proposed here shares some similarities with\\nthe approaches described above. The controller is deﬁned as\\na neural networks, as in [4]; but in contrast to [4], both the\\ntopology and the weights are optimized, thanks to NEAT.\\nFurther work should determine whether this diﬀerence is es-\\nsential or not by running the same algorithm (i.e. with thestabilization incentive in the ﬁtness) and multi-layer per cep-\\ntron controllers.\\nHowever, there are even greater similarities between the\\npresent work and that in [2]. In both works, the grid is ﬁlled\\nwith cells at iteration 0 of the growth process (i.e. no repli ca-\\ntion is allowed) and chemicals are propagated only in a cell-\\ncell fashion without the diﬀusion mechanisms used in [4, 12] .\\nIndeed, a pure cell-cell communication is theoretically su ﬃ-\\ncient for modelling any kind of temporal diﬀusion function,\\nsince diﬀusion in the substrata is the result of successive\\ntransformation with non-linear functions (such as the ones\\nimplemented by sigmoidal neural networks with hidden neu-\\nrons). However, this means that the optimization algorithm\\nmust tune both the diﬀusion reaction and the diﬀerentiation\\nof the cells. On the other hand, whereas [2] only consider\\nthe average of the chemical concentrations of the neighbor-\\ning cells (i.e. is totalistic in the Cellular Automata termi-\\nnology), our approach does take into account the topology\\nof the organism at the controller level, de facto beneﬁtting\\nfrom orientation information. This results in a more genera l\\napproach, though probably less eﬃcient to reach symmetri-\\ncal targets. Here again, further experiments must be run to\\ngive a solid answer.\\nBut two main issues contribute to the originality of the\\napproach proposed here: (1) the output for cell diﬀerenti-\\nation is a continuous value, and (2) the halting problem is\\nindirectly addressed through the ﬁtness function, that fav ors\\nconvergence towards a stable state (i.e. a ﬁxed point).\\nIndeed, all other works consider that a cell may diﬀeren-\\ntiate into one of a given set of discrete states (e.g. blue,\\nred, and white) while output is considered here as a contin-\\nuous value (discretized into a 256-gray level value). At ﬁrs t\\nsight, this can be thought as making the problem harder by\\nincreasing the size of the search space. However, it turns\\nout that a continuous output results in a rather smooth ﬁt-\\nness landscape, something that is known to be critical for\\nEvolutionary Algorithms. Additional experiments (not re-\\nported here) did demonstrate that it was much harder to\\nsolve the same ﬂag problems when discretizing the controlle r\\noutputs before computing the ﬁtness (Section 3.1). Indeed,\\ndiscretized outputs lead to a piecewise constant ﬁtness lan d-\\nscape and the algorithm has no clue about where to go on\\nsuch ﬂat plateaus. However, here again, more experiments\\nare needed before drawing strong conclusions.\\nSecondly, from a dynamical system viewpoint, the objec-\\ntive function can be seen as selecting only the organisms\\nthat do reach a ﬁxed point, starting from given initial con-\\nditions deﬁned as uniformly initialized cells. First, all p revi-\\nous works needed to a priori decide the number of iterations\\nthat growth would use, and it is clear that such parameter\\nis highly problem dependent, and hence should made adap-\\ntive if possible. But more than that, the good news is the\\nstrength of the ﬁxed point reached by the organism, its at-\\ntracting power when starting from other initial conditions -\\nthat is, an extreme case of self-healing capabilities again st\\nperturbations for the organism. Of course, previous works\\n[12] already noted the growth process is remarkably stable\\nunder perturbations, and is able to reach a pattern quite\\nsimilar (though not identical) to the original target patte rn.\\nHowever, it should be noted that the organisms evolved in\\n[12] keep on growing if growth is continued after the ﬁxed\\nnumber of iterations, and eventually turn out to completely\\ndiverge from the target pattern. Similarly, [4] observes th ata perturbation in the earlier stages of development leads\\nto an increase in the disruption of the ﬁnal pattern that\\nis linear with respect to the number of development steps.\\nRobustness towards perturbation was later conﬁrmed and\\nmore thoroughly studied in [6].\\nBut, as demonstrated by the experiments shown in Sec-\\ntion 3.4.2, our model achieves astounding results regardin g\\nthe self-healing property. Starting from completely rando m\\nconditions (i.e. inputs and outputs set to random values),\\nthe system is able to perform a 100% recovery and to con-\\nverge to the exact pattern that was reached during evolution\\n(i.e. when starting with value 0 for all neuron activations) .\\nSome runs were performed without the stabilization crite-\\nrion, the ﬁnal individuals never shown such properties. Thi s\\nseems to be a clear consequence of the way stabilization is\\nfavored in the ﬁtness function – though the precise reason\\nfor the extraordinary absorbing property of all ﬁxed points\\nreached in the experiments so far remains to be understood.\\n5. CONCLUSION\\nThis paper has introduced a continuous Neural Network\\nmodel for Multi-Cellular Developmental Design. The Neu-\\nral Network is evolved using the state-of-the-art NEAT al-\\ngorithm that optimizes both the topology and the weights of\\nthe network, and can evolve both feedforward and recurrent\\nneural networks. The model was validated on four instances\\nof the ’ﬂag’ problem, and on 3 out of 4 instances it per-\\nformed as good as NEAT applied to the equivalent regres-\\nsion problem: this is a hint that the modeling error of the\\ndevelopmental approach is not much bigger than that of the\\nNeural Network approach for regression (which is proved to\\nbe small, thanks to the Universal Approximator property),\\nand is in any case small compared to the computational error\\n(i.e. the error done by NEAT when searching the globally\\noptimal network).\\nBut the most salient feature of this model lies in the stop-\\nping criterion for the growth process: whereas most previ-\\nous work required to a priori decide on a number of itera-\\ntions, the proposed algorithm selects organisms that reach a\\nﬁxed point, making the stopping criterion implicitly adap-\\ntive. The major (and somewhat unexpected) consequence\\nof this adaptivity is the tremendous robustness toward per-\\nturbations during the growth process: in almost all experi-\\nments, the ﬁxed point that is reached from the initial state\\nused during evolution (all neural activations set to 0) seem s\\nto be a global attractor, in the sense that the organism will\\nend up there from any starting point.\\n6. REFERENCES\\n[1] W. Banzhaf. On the dynamics of an artiﬁcial\\nregulatory network. In ECAL’03 , pages 217–227, 2003.\\n[2] P. Bentley. Investigations into graceful degradation o f\\nevolutionary developmental software. Natural\\nComputing , 4(4):417–437, 2005.\\n[3] P. Bentley and S. Kumar. Three ways to grow designs:\\nA comparison of embryogenies for an evolutionary\\ndesign problem. In W. B. et al., editor, GECCO’99 ,\\npages 35–43. Morgan Kaufmann, 1999.\\n[4] D. Federici. Increasing evolvability for developmenta l\\nprograms. In J. Miller, editor, Workshop on\\nRegeneration and Learning in Developmental Systems,\\nWORLDS 2004 , 2004.[5] D. Federici and K. Downing. Evolution and\\ndevelopment of a multicellular organism: scalability,\\nresilience, and neutral complexiﬁcation. Artiﬁcial Life ,\\n12(3):381–409, 2006.\\n[6] D. Federici and T. Ziemke. Why are evolved\\ndeveloping organisms also fault-tolerant? In SAB’06 ,\\npages 449–460, 2006.\\n[7] T. G. W. Gordon and P. J. Bentley. Bias and\\nscalability in evolutionary development. In GECCO\\n’05, pages 83–90. ACM Press, 2005.\\n[8] F. Gruau. Genetic micro programming of neural\\nnetworks. In K. E. Kinnear Jr., editor, Advances in\\nGP, pages 495–518. MIT Press, 1994.\\n[9] K. Hornik, M. Stinchcombe, and H. White. Multilayer\\nfeedforward networks are universal approximators.\\nNeural Networks , pages 359–366, 1989.\\n[10] L. Y. L. O. Chua. Cellular neural networks:\\nApplications. IEEE Trans. on Circuits and Systems ,\\n35(10):1273–1290, 1988.\\n[11] Z. Michalewicz. Genetic Algorithms + Data Structures\\n= Evolution Programs . Springer Verlag, New-York,\\n1992-1996. 1st-3rd edition.\\n[12] J. F. Miller. Evolving a self-repairing, self-regulat ing,\\nfrench ﬂag organism. In GECCO , pages 129–139, 2004.\\n[13] J. F. Miller and W. Banzhaf. Evolving the program\\nfor a cell: from french ﬂags to boolean circuits. In\\nS. Kumar and P. J. Bentley, editors, On Growth,\\nForm and Computers . Academic Press, 2003.\\n[14] J. F. Miller and P. Thomson. Cartesian genetic\\nprogramming. In P. et al, editor, EuroGP’00 , pages\\n121–132. LNCS 1802, Springer-Verlag, 2000.\\n[15] D. Roggen and D. Federici. Multi-cellular\\ndevelopment: Is there scalability and robustness to\\ngain? In X. Y. et al., editor, PPSN’04 , pages 391–400.\\nLNCS 3242, Springer Verlag, 2004.\\n[16] K. Sims. Evolving virtual creatures. In\\nSIGGRAPH’94 , pages 15–22. ACM Press, July 1994.\\n[17] K. O. Stanley and R. Miikkulainen. Evolving neural\\nnetworks through augmenting topologies. Evolutionary\\nComputation , 10(2):99–127, 2002.\\n[18] K. O. Stanley and R. Miikkulainen. A taxonomy for\\nartiﬁcial embryogeny. Artiﬁcial Life , 9(2):93–130,\\n2003.\\n[19] A. M. Turing. The chemical basis of morphogenesis.\\nPhilosophical Transactions of the Royal Society of\\nLondon, Series B, Biological sciences , B\\n237(641):37–72, Aug. 1952.\\n[20] S. Wolfram. A new kind of science . Wolfram Media,\\n2002.'"
            ],
            "application/vnd.google.colaboratory.intrinsic+json": {
              "type": "string"
            }
          },
          "metadata": {},
          "execution_count": 10
        }
      ]
    },
    {
      "cell_type": "code",
      "source": [
        "import spacy\n",
        "import re\n",
        "\n",
        "# Load the language model\n",
        "nlp = spacy.load(\"en_core_web_sm\")\n",
        "\n",
        "# Open the research paper\n",
        "# with open(\"research_paper.txt\") as f:\n",
        "#     text = f.read()\n",
        "\n",
        "# Parse the text using Spacy\n",
        "doc = nlp(content)\n",
        "print(doc)\n",
        "# Extract the section names\n",
        "sections = []\n",
        "for sent in doc.sents:\n",
        "    # Check if the sentence is a section heading\n",
        "    if re.match(r\"^[A-Z][A-Za-z\\s]+[A-Z]$\", sent.text):\n",
        "        sections.append(sent.text.strip())\n",
        "\n",
        "# Print the section names\n",
        "print(sections)"
      ],
      "metadata": {
        "id": "ovwmp-QLLCc5"
      },
      "execution_count": null,
      "outputs": []
    },
    {
      "cell_type": "code",
      "source": [
        "pip install textract"
      ],
      "metadata": {
        "id": "PAjkE_U-L3kZ"
      },
      "execution_count": null,
      "outputs": []
    },
    {
      "cell_type": "code",
      "source": [
        "import spacy\n",
        "import re\n",
        "import os\n",
        "import textract\n",
        "import requests\n",
        "from bs4 import BeautifulSoup\n",
        "\n",
        "# Load the language model\n",
        "nlp = spacy.load(\"en_core_web_sm\")\n",
        "\n",
        "# Function to extract text from a file\n",
        "def extract_text(filepath):\n",
        "    # Extract text from PDF or Word document\n",
        "    if filepath.endswith(\".pdf\") or filepath.endswith(\".doc\") or filepath.endswith(\".docx\"):\n",
        "        text = textract.process(filepath).decode(\"utf-8\")\n",
        "    # Extract text from HTML document\n",
        "    elif filepath.endswith(\".html\") or filepath.endswith(\".htm\"):\n",
        "        html = requests.get(filepath).content\n",
        "        soup = BeautifulSoup(html, \"html.parser\")\n",
        "        text = soup.get_text()\n",
        "    # Extract text from plain text file\n",
        "    else:\n",
        "        with open(filepath) as f:\n",
        "            text = f.read()\n",
        "    print(text)\n",
        "    return text\n",
        "\n",
        "# Function to extract section headings from text\n",
        "# def extract_section_headings(text):\n",
        "#     # Parse the text using Spacy\n",
        "#     doc = nlp(text)\n",
        "#     # Extract the section headings\n",
        "#     section_headings = []\n",
        "#     for token in doc:\n",
        "#         if token.is_title:\n",
        "#             section_headings.append(token.text)\n",
        "#     # Remove duplicates and return the section headings\n",
        "#     return list(set(section_headings))\n",
        "\n",
        "# Example usage\n",
        "filepath = \"/content/download_data/0705.1309.pdf\"\n",
        "text = extract_text(filepath)\n",
        "# section_headings = extract_section_headings(text)\n",
        "# print(section_headings)\n"
      ],
      "metadata": {
        "id": "Oj3okrkMLznf"
      },
      "execution_count": null,
      "outputs": []
    },
    {
      "cell_type": "code",
      "source": [
        "pattern = r\"\\n(.+)\\n\"\n",
        "matches = re.findall(pattern, text)\n",
        "f=[]\n",
        "print(len(matches))\n",
        "for j in range(len(matches)):\n",
        "  if \"Abstract\" in matches[j] or \"ABSTRACT\" in matches[j]:\n",
        "    break\n",
        "for i in range(j,len(matches)):\n",
        "  \n",
        "  s=matches[i].split()\n",
        "  #print(s)\n",
        "  if len(s)<4:\n",
        "    # print(\"length\",end=\"  \")\n",
        "    # print(len(s),matches[i])\n",
        "    f.append(matches[i])\n",
        "  \n",
        "print(len(f))\n",
        "print(f)"
      ],
      "metadata": {
        "colab": {
          "base_uri": "https://localhost:8080/"
        },
        "id": "A58UBnfjfQtS",
        "outputId": "af3614bb-7666-477e-c819-0547385bf3f2"
      },
      "execution_count": null,
      "outputs": [
        {
          "output_type": "stream",
          "name": "stdout",
          "text": [
            "863\n",
            "353\n",
            "['Abstract', '1', 'Introduction', 'nlpyang/PreSumm.', 'paragraph-level natural', '2 Background', '(1)', 'contextual information.', 'speciﬁc parameters.', '2.2 Extractive Summarization', '2.3 Abstractive Summarization', 'distributions (TCONVS2S).', 'Original BERT', 'BERT for Summarization', 'Input ', 'Token ', 'Segment ', 'Position ', 'Contextual ', '[CLS]', 'sent', 'one', '[SEP]', '2nd', 'sent', '[SEP]', 'sent', 'again [SEP]', '[CLS]', 'sent', 'one', '[SEP]', '[CLS]', '2nd', 'sent', '[SEP]', '[CLS]', 'sent', 'again', '[SEP]', 'E[CLS] Esent', 'Eone E[SEP] E2nd', 'EA', 'E1', 'EA', 'EA', 'EA', 'EA', 'EA', 'EA', 'EA', 'EA', 'E6', 'E8', 'E9', 'E2', 'E3', 'E4', 'E5', 'E7', 'E2nd', 'E[CLS] Esent', 'Eone E[SEP] E[CLS]', 'EA', 'E1', 'E11', 'E10', 'EA', 'EA', 'EB', 'EB', 'EA', 'EA', 'EB', 'EB', 'EA', 'EA', 'E7', 'E9', 'E2', 'E4', 'E6', 'E8', 'E3', 'E5', 'Transformer Layers', 'Transformer Layers', 'T[CLS]', 'Tsent', 'Tone', 'T[SEP]', 'T2nd', 'Tsent', 'T[SEP]', 'Tsent Tagain T[SEP]', 'T[CLS]', 'Tsent', 'Tone', 'T[SEP] T[CLS]', 'T2nd', 'Tsent', 'T[SEP] T[CLS]', 'Tsent', 'Tagain T[SEP]', 'tences in BERT,', 'multi-sentence discourse.', '3.2 Extractive Summarization', 'It', '(3)', 'ˆyi = σ(WohL', 'i + bo)', '(5)', 'i', 'In', 'BERTSUMEXT.', '3.3 Abstractive Summarization', 'assumption that', '\\x0cDatasets', 'DailyMail', 'XSum', '# docs (train/val/test)', '196,961/12,148/10,397', '204,045/11,332/11,334', 'avg. doc length', 'words', '653.33', '431.07', 'sentences words', '54.65', '23.26', '33.98', '35.55', '3.59', '2.44', 'sentences', '52.90', '54.70', '4 Experimental Setup', '4.1 Summarization Datasets', 'Implementation Details', '4.2', '2https://git.io/fhbJQ', 'Model', 'LEAD-3', 'R2', 'R1', '52.59 31.24 48.87', 'Extractive', 'TransformerEXT', 'Abstractive', 'BERT-based', '36.44 15.66 33.42', '39.87 15.82 36.90', '41.69 19.47 37.92', 'BERTSUMEXT', 'BERTSUMEXT (large)', 'BERTSUMABS', '42.13 19.60 39.18', '5 Results', 'results on the', '\\x0cModel', 'LEAD-3', 'Extractive', 'Abstractive', 'BERT-based', 'BERTSUMEXT', 'BERTSUMEXTABS', 'R1', '39.58', '42.20', '41.95', '42.47', '42.94', '46.66', '49.02', 'R2', '20.11', 'RL', '35.78', 'Model', 'LEAD', 'R1', '16.30', 'R2', '8.81 22.66', '24.90 —', '22.68', '38.60', '25.61 —', '26.02 —', '31.41', '26.35', '31.02', '42.62', '45.55', 'Abstractive', '9.21 23.24', '28.10', '31.89 11.54 25.75', '29.41', 'BERT-based', 'BERTSUMABS', '38.76 16.33 31.15', '2017).', 'approaching ORACLE performance.', '\\x0c˜lrD', '˜lrE', '2e-3', '1', '50.69', '0.1', '9.33', '0.01', '10.13', '0.001', '19.26', 'decoder learning rates.', 'margin).', '5.2 Model Analysis', 'that our abstractive', 'and decoder.', 'deeper document representations.', 'an extractive model.', '5.3 Human Evaluation', 's', 'c', 'e', 'n', 's', 'e', 'c', 'l', 's', 'f', 'n', 'i', 'r', 'p', 'r', '0.30', '0.25', '0.20', '0.15', '0.10', '0.05', '0.00', 'TRANSFORMEREXT', 'ORACLE', '\\x0cAbstractive', 'LEAD', 'BOTTOMUP', 'GOLD', 'CNN/DM', '42.5† —', '40.6† -0.16†', '— 0.22†', '56.1', 'NYT', '36.2† —', '— —', '— 0.33†', 'XSum', 'QA Rank', '-0.36†', '—', '-0.20†', '— 0.38†', '57.5', '6 Conclusions', 'Acknowledgments', '(a) CNN/DailyMail Dataset', '(b) XSum dataset', 'Extractive', 'NEUSUM', 'Transformer', 'CNN/DM NYT', '—', '32.5†', '42.5†', '41.7†', '58.9', 'cinctness.', 'BERTSUMEXTABS', 'BERTSUMABS', 'Reference', 's', 'a', 'g', 'n', 'e', 'o', 'f', 'n', 'i', 'r', 'p', 'r', '0.8', '0.6', '0.4', '0.2', '0.0', '1-grams', '2-grams', '3-grams', 's', 'a', 'g', 'n', 'e', 'o', 'f', 'n', 'i', 'r', 'p', 'r', '1.0', '0.8', '0.6', '0.4', '0.2', '0.0', '1-grams', '2-grams', '3-grams', '\\x0cReferences', 'arXiv preprint', 'In Pro-', 'tional Linguistics, 36(3):411–441.', 'understanding and generation.', 'nesota.', '4098–4109, Brussels, Belgium.', 'Li. 2016.', 'sequence-to-sequence learning.', 'Computational Linguistics.', 'Minneapolis, Minnesota.', 'cessing toolkit.', 'tion.', 'Melbourne, Australia.', 'San Francisco, California.', 'many.', 'treme summarization.', 'In Proceed-', 'Louisiana.', 'ver, Canada.', 'resentations.', 'In CoRR,', 'abs/1704.01444, 2017.', 'arXiv preprint', 'eryn. 2019.', 'arXiv:1907.12461.', '6(12).']\n"
          ]
        }
      ]
    },
    {
      "cell_type": "code",
      "source": [
        "f2=[]\n",
        "for i in range(len(f)):\n",
        " \n",
        "\n",
        "  if f[i][0].islower()==False:\n",
        "      # print(\"lower\",end=\"  \")\n",
        "      # print(len(s),i)\n",
        "      #print(f[i])\n",
        "      f2.append(f[i])\n",
        "\n",
        "print(len(f),len(f2))\n",
        "print(f2)"
      ],
      "metadata": {
        "colab": {
          "base_uri": "https://localhost:8080/"
        },
        "id": "7Pg1FBbsjVFv",
        "outputId": "f806397f-59a6-433b-8439-e62c1e675d31"
      },
      "execution_count": null,
      "outputs": [
        {
          "output_type": "stream",
          "name": "stdout",
          "text": [
            "353 266\n",
            "['Abstract', '1', 'Introduction', '2 Background', '(1)', '2.2 Extractive Summarization', '2.3 Abstractive Summarization', 'Original BERT', 'BERT for Summarization', 'Input ', 'Token ', 'Segment ', 'Position ', 'Contextual ', '[CLS]', '[SEP]', '2nd', '[SEP]', '[CLS]', '[SEP]', '[CLS]', '2nd', '[SEP]', '[CLS]', '[SEP]', 'E[CLS] Esent', 'Eone E[SEP] E2nd', 'EA', 'E1', 'EA', 'EA', 'EA', 'EA', 'EA', 'EA', 'EA', 'EA', 'E6', 'E8', 'E9', 'E2', 'E3', 'E4', 'E5', 'E7', 'E2nd', 'E[CLS] Esent', 'Eone E[SEP] E[CLS]', 'EA', 'E1', 'E11', 'E10', 'EA', 'EA', 'EB', 'EB', 'EA', 'EA', 'EB', 'EB', 'EA', 'EA', 'E7', 'E9', 'E2', 'E4', 'E6', 'E8', 'E3', 'E5', 'Transformer Layers', 'Transformer Layers', 'T[CLS]', 'Tsent', 'Tone', 'T[SEP]', 'T2nd', 'Tsent', 'T[SEP]', 'Tsent Tagain T[SEP]', 'T[CLS]', 'Tsent', 'Tone', 'T[SEP] T[CLS]', 'T2nd', 'Tsent', 'T[SEP] T[CLS]', 'Tsent', 'Tagain T[SEP]', '3.2 Extractive Summarization', 'It', '(3)', 'ˆyi = σ(WohL', '(5)', 'In', 'BERTSUMEXT.', '3.3 Abstractive Summarization', '\\x0cDatasets', 'DailyMail', 'XSum', '# docs (train/val/test)', '196,961/12,148/10,397', '204,045/11,332/11,334', '653.33', '431.07', '54.65', '23.26', '33.98', '35.55', '3.59', '2.44', '52.90', '54.70', '4 Experimental Setup', '4.1 Summarization Datasets', 'Implementation Details', '4.2', '2https://git.io/fhbJQ', 'Model', 'LEAD-3', 'R2', 'R1', '52.59 31.24 48.87', 'Extractive', 'TransformerEXT', 'Abstractive', 'BERT-based', '36.44 15.66 33.42', '39.87 15.82 36.90', '41.69 19.47 37.92', 'BERTSUMEXT', 'BERTSUMEXT (large)', 'BERTSUMABS', '42.13 19.60 39.18', '5 Results', '\\x0cModel', 'LEAD-3', 'Extractive', 'Abstractive', 'BERT-based', 'BERTSUMEXT', 'BERTSUMEXTABS', 'R1', '39.58', '42.20', '41.95', '42.47', '42.94', '46.66', '49.02', 'R2', '20.11', 'RL', '35.78', 'Model', 'LEAD', 'R1', '16.30', 'R2', '8.81 22.66', '24.90 —', '22.68', '38.60', '25.61 —', '26.02 —', '31.41', '26.35', '31.02', '42.62', '45.55', 'Abstractive', '9.21 23.24', '28.10', '31.89 11.54 25.75', '29.41', 'BERT-based', 'BERTSUMABS', '38.76 16.33 31.15', '2017).', '\\x0c˜lrD', '˜lrE', '2e-3', '1', '50.69', '0.1', '9.33', '0.01', '10.13', '0.001', '19.26', '5.2 Model Analysis', '5.3 Human Evaluation', '0.30', '0.25', '0.20', '0.15', '0.10', '0.05', '0.00', 'TRANSFORMEREXT', 'ORACLE', '\\x0cAbstractive', 'LEAD', 'BOTTOMUP', 'GOLD', 'CNN/DM', '42.5† —', '40.6† -0.16†', '— 0.22†', '56.1', 'NYT', '36.2† —', '— —', '— 0.33†', 'XSum', 'QA Rank', '-0.36†', '—', '-0.20†', '— 0.38†', '57.5', '6 Conclusions', 'Acknowledgments', '(a) CNN/DailyMail Dataset', '(b) XSum dataset', 'Extractive', 'NEUSUM', 'Transformer', 'CNN/DM NYT', '—', '32.5†', '42.5†', '41.7†', '58.9', 'BERTSUMEXTABS', 'BERTSUMABS', 'Reference', '0.8', '0.6', '0.4', '0.2', '0.0', '1-grams', '2-grams', '3-grams', '1.0', '0.8', '0.6', '0.4', '0.2', '0.0', '1-grams', '2-grams', '3-grams', '\\x0cReferences', 'In Pro-', '4098–4109, Brussels, Belgium.', 'Li. 2016.', 'Computational Linguistics.', 'Minneapolis, Minnesota.', 'Melbourne, Australia.', 'San Francisco, California.', 'In Proceed-', 'Louisiana.', 'In CoRR,', '6(12).']\n"
          ]
        }
      ]
    },
    {
      "cell_type": "code",
      "source": [
        "f3=[]\n",
        "for i in range(len(f2)):\n",
        "  if f2[i].isdigit()==False:\n",
        "    #print(i)\n",
        "    f3.append(f2[i])\n",
        "print(len(f2),len(f3))\n"
      ],
      "metadata": {
        "colab": {
          "base_uri": "https://localhost:8080/"
        },
        "id": "tK5GpHqKn5Oe",
        "outputId": "d048963b-2c8d-441a-de4e-a0c77271e19d"
      },
      "execution_count": null,
      "outputs": [
        {
          "output_type": "stream",
          "name": "stdout",
          "text": [
            "266 264\n"
          ]
        }
      ]
    },
    {
      "cell_type": "code",
      "source": [
        "f4=[]\n",
        "for i in range(len(f3)):\n",
        "  if len(f3[i])>3:\n",
        "    #print(i)\n",
        "    f4.append(f3[i])\n",
        "print(len(f3),len(f4))"
      ],
      "metadata": {
        "colab": {
          "base_uri": "https://localhost:8080/"
        },
        "id": "ULmmEcUsotWS",
        "outputId": "8d362dc5-80b6-474a-f33a-1ab3c6c2f266"
      },
      "execution_count": null,
      "outputs": [
        {
          "output_type": "stream",
          "name": "stdout",
          "text": [
            "264 193\n"
          ]
        }
      ]
    },
    {
      "cell_type": "code",
      "source": [
        "def isfloat(num):\n",
        "  try:\n",
        "    float(num)\n",
        "    return True\n",
        "  except ValueError:\n",
        "    return False\n",
        "\n",
        "f5=[]\n",
        "for i in range(len(f4)):\n",
        "  if isfloat(f4[i])==False:\n",
        "    #print(i)\n",
        "    f5.append(f4[i])\n",
        "print(len(f4),len(f5))"
      ],
      "metadata": {
        "colab": {
          "base_uri": "https://localhost:8080/"
        },
        "id": "3S1MTIEBiukC",
        "outputId": "ba5c22ee-daac-4422-9b63-9dddf5d49786"
      },
      "execution_count": null,
      "outputs": [
        {
          "output_type": "stream",
          "name": "stdout",
          "text": [
            "193 147\n"
          ]
        }
      ]
    },
    {
      "cell_type": "code",
      "source": [
        "print(f5)"
      ],
      "metadata": {
        "colab": {
          "base_uri": "https://localhost:8080/"
        },
        "id": "mpyw7Uwjs4W_",
        "outputId": "0cc33ce2-0bc9-4da1-8cc4-dcc4cfb5cebf"
      },
      "execution_count": null,
      "outputs": [
        {
          "output_type": "stream",
          "name": "stdout",
          "text": [
            "['Abstract', 'Introduction', '2 Background', '2.2 Extractive Summarization', '2.3 Abstractive Summarization', 'Original BERT', 'BERT for Summarization', 'Input ', 'Token ', 'Segment ', 'Position ', 'Contextual ', '[CLS]', '[SEP]', '[SEP]', '[CLS]', '[SEP]', '[CLS]', '[SEP]', '[CLS]', '[SEP]', 'E[CLS] Esent', 'Eone E[SEP] E2nd', 'E2nd', 'E[CLS] Esent', 'Eone E[SEP] E[CLS]', 'Transformer Layers', 'Transformer Layers', 'T[CLS]', 'Tsent', 'Tone', 'T[SEP]', 'T2nd', 'Tsent', 'T[SEP]', 'Tsent Tagain T[SEP]', 'T[CLS]', 'Tsent', 'Tone', 'T[SEP] T[CLS]', 'T2nd', 'Tsent', 'T[SEP] T[CLS]', 'Tsent', 'Tagain T[SEP]', '3.2 Extractive Summarization', 'ˆyi = σ(WohL', 'BERTSUMEXT.', '3.3 Abstractive Summarization', '\\x0cDatasets', 'DailyMail', 'XSum', '# docs (train/val/test)', '196,961/12,148/10,397', '204,045/11,332/11,334', '4 Experimental Setup', '4.1 Summarization Datasets', 'Implementation Details', '2https://git.io/fhbJQ', 'Model', 'LEAD-3', '52.59 31.24 48.87', 'Extractive', 'TransformerEXT', 'Abstractive', 'BERT-based', '36.44 15.66 33.42', '39.87 15.82 36.90', '41.69 19.47 37.92', 'BERTSUMEXT', 'BERTSUMEXT (large)', 'BERTSUMABS', '42.13 19.60 39.18', '5 Results', '\\x0cModel', 'LEAD-3', 'Extractive', 'Abstractive', 'BERT-based', 'BERTSUMEXT', 'BERTSUMEXTABS', 'Model', 'LEAD', '8.81 22.66', '24.90 —', '25.61 —', '26.02 —', 'Abstractive', '9.21 23.24', '31.89 11.54 25.75', 'BERT-based', 'BERTSUMABS', '38.76 16.33 31.15', '2017).', '\\x0c˜lrD', '˜lrE', '5.2 Model Analysis', '5.3 Human Evaluation', 'TRANSFORMEREXT', 'ORACLE', '\\x0cAbstractive', 'LEAD', 'BOTTOMUP', 'GOLD', 'CNN/DM', '42.5† —', '40.6† -0.16†', '— 0.22†', '36.2† —', '— 0.33†', 'XSum', 'QA Rank', '-0.36†', '-0.20†', '— 0.38†', '6 Conclusions', 'Acknowledgments', '(a) CNN/DailyMail Dataset', '(b) XSum dataset', 'Extractive', 'NEUSUM', 'Transformer', 'CNN/DM NYT', '32.5†', '42.5†', '41.7†', 'BERTSUMEXTABS', 'BERTSUMABS', 'Reference', '1-grams', '2-grams', '3-grams', '1-grams', '2-grams', '3-grams', '\\x0cReferences', 'In Pro-', '4098–4109, Brussels, Belgium.', 'Li. 2016.', 'Computational Linguistics.', 'Minneapolis, Minnesota.', 'Melbourne, Australia.', 'San Francisco, California.', 'In Proceed-', 'Louisiana.', 'In CoRR,', '6(12).']\n"
          ]
        }
      ]
    },
    {
      "cell_type": "code",
      "source": [
        "f6=[]\n",
        "for i in range(len(f5)):\n",
        "  my_new_string = re.sub('[^.a-zA-Z0-9 \\n\\.]', '', f5[i])\n",
        "  if len(f5[i])==len(my_new_string):\n",
        "    f6.append(f5[i])\n",
        "print(len(f5),len(f6))"
      ],
      "metadata": {
        "colab": {
          "base_uri": "https://localhost:8080/"
        },
        "id": "5Yy8DtzwsUzU",
        "outputId": "b95cb02e-26ee-4d10-bf9d-454622e44cf4"
      },
      "execution_count": null,
      "outputs": [
        {
          "output_type": "stream",
          "name": "stdout",
          "text": [
            "147 76\n"
          ]
        }
      ]
    },
    {
      "cell_type": "code",
      "source": [
        "print(f6)"
      ],
      "metadata": {
        "colab": {
          "base_uri": "https://localhost:8080/"
        },
        "id": "O2FDcDn1twYK",
        "outputId": "363f7cd6-83a7-40a4-ae76-7bef9332f9c7"
      },
      "execution_count": null,
      "outputs": [
        {
          "output_type": "stream",
          "name": "stdout",
          "text": [
            "['Abstract', 'Introduction', '2 Background', '2.2 Extractive Summarization', '2.3 Abstractive Summarization', 'Original BERT', 'BERT for Summarization', 'Input ', 'Token ', 'Segment ', 'Position ', 'Contextual ', 'E2nd', 'Transformer Layers', 'Transformer Layers', 'Tsent', 'Tone', 'T2nd', 'Tsent', 'Tsent', 'Tone', 'T2nd', 'Tsent', 'Tsent', '3.2 Extractive Summarization', 'BERTSUMEXT.', '3.3 Abstractive Summarization', 'DailyMail', 'XSum', '4 Experimental Setup', '4.1 Summarization Datasets', 'Implementation Details', 'Model', '52.59 31.24 48.87', 'Extractive', 'TransformerEXT', 'Abstractive', '36.44 15.66 33.42', '39.87 15.82 36.90', '41.69 19.47 37.92', 'BERTSUMEXT', 'BERTSUMABS', '42.13 19.60 39.18', '5 Results', 'Extractive', 'Abstractive', 'BERTSUMEXT', 'BERTSUMEXTABS', 'Model', 'LEAD', '8.81 22.66', 'Abstractive', '9.21 23.24', '31.89 11.54 25.75', 'BERTSUMABS', '38.76 16.33 31.15', '5.2 Model Analysis', '5.3 Human Evaluation', 'TRANSFORMEREXT', 'ORACLE', 'LEAD', 'BOTTOMUP', 'GOLD', 'XSum', 'QA Rank', '6 Conclusions', 'Acknowledgments', 'Extractive', 'NEUSUM', 'Transformer', 'BERTSUMEXTABS', 'BERTSUMABS', 'Reference', 'Li. 2016.', 'Computational Linguistics.', 'Louisiana.']\n"
          ]
        }
      ]
    },
    {
      "cell_type": "code",
      "source": [
        "# import re\n",
        "\n",
        "# my_str = \"u' %$HI# Jhon, $how$ are *&$%you.%$\"\n",
        "# my_new_string = re.sub('[^.a-zA-Z0-9 \\n\\.]', '', my_str)\n",
        "# print (my_new_string)"
      ],
      "metadata": {
        "colab": {
          "base_uri": "https://localhost:8080/"
        },
        "id": "Mqd5E2uDqmCS",
        "outputId": "65e01fe2-310c-469d-a3d3-5b7feb0c7918"
      },
      "execution_count": null,
      "outputs": [
        {
          "output_type": "stream",
          "name": "stdout",
          "text": [
            "u HI Jhon how are you.\n"
          ]
        }
      ]
    },
    {
      "cell_type": "code",
      "source": [
        "import spacy\n",
        "import re\n",
        "import os\n",
        "import PyPDF2\n",
        "\n",
        "# Load the language model\n",
        "nlp = spacy.load(\"en_core_web_sm\")\n",
        "\n",
        "# Define a function to extract section headings\n",
        "def extract_section_headings(filepath):\n",
        "    # Open the PDF file in binary mode\n",
        "    with open(filepath, \"rb\") as f:\n",
        "        # Create a PyPDF2 reader object\n",
        "        pdf_reader = PyPDF2.PdfReader(f)\n",
        "\n",
        "        # Read in the contents of the PDF file\n",
        "        contents = \"\"\n",
        "        for page_num in range(len(pdf_reader.pages)):\n",
        "            page = pdf_reader.pages[page_num]\n",
        "            contents += page.extract_text()\n",
        "\n",
        "    # Tokenize the file contents using Spacy\n",
        "    doc = nlp(contents)\n",
        "\n",
        "    # Extract the section headings\n",
        "    section_headings = []\n",
        "    for i, token in enumerate(doc):\n",
        "        # Check if the token is a section heading\n",
        "        if token.is_title and (i == 0 or doc[i-1].is_punct or doc[i-1].is_space):\n",
        "            # Extract the section heading text\n",
        "            heading_text = token.text.strip()\n",
        "            # Remove any trailing punctuation\n",
        "            heading_text = re.sub(r\"\\p{P}+$\", \"\", heading_text)\n",
        "            # Append the section heading to the list\n",
        "            section_headings.append(heading_text)\n",
        "\n",
        "    # Return the list of section headings\n",
        "    return section_headings\n",
        "\n",
        "# Example usage\n",
        "filepath = \"/content/download_data/0705.1309.pdf\"\n",
        "section_headings = extract_section_headings(filepath)\n",
        "print(section_headings)\n"
      ],
      "metadata": {
        "colab": {
          "base_uri": "https://localhost:8080/",
          "height": 377
        },
        "id": "Qmfi5tb0N0ig",
        "outputId": "de9563c0-ceb9-40b6-a6f0-2992afc0e964"
      },
      "execution_count": null,
      "outputs": [
        {
          "output_type": "error",
          "ename": "error",
          "evalue": "ignored",
          "traceback": [
            "\u001b[0;31m---------------------------------------------------------------------------\u001b[0m",
            "\u001b[0;31merror\u001b[0m                                     Traceback (most recent call last)",
            "\u001b[0;32m<ipython-input-20-2efb0ebea0db>\u001b[0m in \u001b[0;36m<cell line: 42>\u001b[0;34m()\u001b[0m\n\u001b[1;32m     40\u001b[0m \u001b[0;31m# Example usage\u001b[0m\u001b[0;34m\u001b[0m\u001b[0;34m\u001b[0m\u001b[0m\n\u001b[1;32m     41\u001b[0m \u001b[0mfilepath\u001b[0m \u001b[0;34m=\u001b[0m \u001b[0;34m\"/content/download_data/0705.1309.pdf\"\u001b[0m\u001b[0;34m\u001b[0m\u001b[0;34m\u001b[0m\u001b[0m\n\u001b[0;32m---> 42\u001b[0;31m \u001b[0msection_headings\u001b[0m \u001b[0;34m=\u001b[0m \u001b[0mextract_section_headings\u001b[0m\u001b[0;34m(\u001b[0m\u001b[0mfilepath\u001b[0m\u001b[0;34m)\u001b[0m\u001b[0;34m\u001b[0m\u001b[0;34m\u001b[0m\u001b[0m\n\u001b[0m\u001b[1;32m     43\u001b[0m \u001b[0mprint\u001b[0m\u001b[0;34m(\u001b[0m\u001b[0msection_headings\u001b[0m\u001b[0;34m)\u001b[0m\u001b[0;34m\u001b[0m\u001b[0;34m\u001b[0m\u001b[0m\n",
            "\u001b[0;32m<ipython-input-20-2efb0ebea0db>\u001b[0m in \u001b[0;36mextract_section_headings\u001b[0;34m(filepath)\u001b[0m\n\u001b[1;32m     31\u001b[0m             \u001b[0mheading_text\u001b[0m \u001b[0;34m=\u001b[0m \u001b[0mtoken\u001b[0m\u001b[0;34m.\u001b[0m\u001b[0mtext\u001b[0m\u001b[0;34m.\u001b[0m\u001b[0mstrip\u001b[0m\u001b[0;34m(\u001b[0m\u001b[0;34m)\u001b[0m\u001b[0;34m\u001b[0m\u001b[0;34m\u001b[0m\u001b[0m\n\u001b[1;32m     32\u001b[0m             \u001b[0;31m# Remove any trailing punctuation\u001b[0m\u001b[0;34m\u001b[0m\u001b[0;34m\u001b[0m\u001b[0m\n\u001b[0;32m---> 33\u001b[0;31m             \u001b[0mheading_text\u001b[0m \u001b[0;34m=\u001b[0m \u001b[0mre\u001b[0m\u001b[0;34m.\u001b[0m\u001b[0msub\u001b[0m\u001b[0;34m(\u001b[0m\u001b[0;34mr\"\\p{P}+$\"\u001b[0m\u001b[0;34m,\u001b[0m \u001b[0;34m\"\"\u001b[0m\u001b[0;34m,\u001b[0m \u001b[0mheading_text\u001b[0m\u001b[0;34m)\u001b[0m\u001b[0;34m\u001b[0m\u001b[0;34m\u001b[0m\u001b[0m\n\u001b[0m\u001b[1;32m     34\u001b[0m             \u001b[0;31m# Append the section heading to the list\u001b[0m\u001b[0;34m\u001b[0m\u001b[0;34m\u001b[0m\u001b[0m\n\u001b[1;32m     35\u001b[0m             \u001b[0msection_headings\u001b[0m\u001b[0;34m.\u001b[0m\u001b[0mappend\u001b[0m\u001b[0;34m(\u001b[0m\u001b[0mheading_text\u001b[0m\u001b[0;34m)\u001b[0m\u001b[0;34m\u001b[0m\u001b[0;34m\u001b[0m\u001b[0m\n",
            "\u001b[0;32m/usr/lib/python3.9/re.py\u001b[0m in \u001b[0;36msub\u001b[0;34m(pattern, repl, string, count, flags)\u001b[0m\n\u001b[1;32m    208\u001b[0m     \u001b[0ma\u001b[0m \u001b[0mcallable\u001b[0m\u001b[0;34m,\u001b[0m \u001b[0mit\u001b[0m\u001b[0;31m'\u001b[0m\u001b[0ms\u001b[0m \u001b[0mpassed\u001b[0m \u001b[0mthe\u001b[0m \u001b[0mMatch\u001b[0m \u001b[0mobject\u001b[0m \u001b[0;32mand\u001b[0m \u001b[0mmust\u001b[0m \u001b[0;32mreturn\u001b[0m\u001b[0;34m\u001b[0m\u001b[0;34m\u001b[0m\u001b[0m\n\u001b[1;32m    209\u001b[0m     a replacement string to be used.\"\"\"\n\u001b[0;32m--> 210\u001b[0;31m     \u001b[0;32mreturn\u001b[0m \u001b[0m_compile\u001b[0m\u001b[0;34m(\u001b[0m\u001b[0mpattern\u001b[0m\u001b[0;34m,\u001b[0m \u001b[0mflags\u001b[0m\u001b[0;34m)\u001b[0m\u001b[0;34m.\u001b[0m\u001b[0msub\u001b[0m\u001b[0;34m(\u001b[0m\u001b[0mrepl\u001b[0m\u001b[0;34m,\u001b[0m \u001b[0mstring\u001b[0m\u001b[0;34m,\u001b[0m \u001b[0mcount\u001b[0m\u001b[0;34m)\u001b[0m\u001b[0;34m\u001b[0m\u001b[0;34m\u001b[0m\u001b[0m\n\u001b[0m\u001b[1;32m    211\u001b[0m \u001b[0;34m\u001b[0m\u001b[0m\n\u001b[1;32m    212\u001b[0m \u001b[0;32mdef\u001b[0m \u001b[0msubn\u001b[0m\u001b[0;34m(\u001b[0m\u001b[0mpattern\u001b[0m\u001b[0;34m,\u001b[0m \u001b[0mrepl\u001b[0m\u001b[0;34m,\u001b[0m \u001b[0mstring\u001b[0m\u001b[0;34m,\u001b[0m \u001b[0mcount\u001b[0m\u001b[0;34m=\u001b[0m\u001b[0;36m0\u001b[0m\u001b[0;34m,\u001b[0m \u001b[0mflags\u001b[0m\u001b[0;34m=\u001b[0m\u001b[0;36m0\u001b[0m\u001b[0;34m)\u001b[0m\u001b[0;34m:\u001b[0m\u001b[0;34m\u001b[0m\u001b[0;34m\u001b[0m\u001b[0m\n",
            "\u001b[0;32m/usr/lib/python3.9/re.py\u001b[0m in \u001b[0;36m_compile\u001b[0;34m(pattern, flags)\u001b[0m\n\u001b[1;32m    302\u001b[0m     \u001b[0;32mif\u001b[0m \u001b[0;32mnot\u001b[0m \u001b[0msre_compile\u001b[0m\u001b[0;34m.\u001b[0m\u001b[0misstring\u001b[0m\u001b[0;34m(\u001b[0m\u001b[0mpattern\u001b[0m\u001b[0;34m)\u001b[0m\u001b[0;34m:\u001b[0m\u001b[0;34m\u001b[0m\u001b[0;34m\u001b[0m\u001b[0m\n\u001b[1;32m    303\u001b[0m         \u001b[0;32mraise\u001b[0m \u001b[0mTypeError\u001b[0m\u001b[0;34m(\u001b[0m\u001b[0;34m\"first argument must be string or compiled pattern\"\u001b[0m\u001b[0;34m)\u001b[0m\u001b[0;34m\u001b[0m\u001b[0;34m\u001b[0m\u001b[0m\n\u001b[0;32m--> 304\u001b[0;31m     \u001b[0mp\u001b[0m \u001b[0;34m=\u001b[0m \u001b[0msre_compile\u001b[0m\u001b[0;34m.\u001b[0m\u001b[0mcompile\u001b[0m\u001b[0;34m(\u001b[0m\u001b[0mpattern\u001b[0m\u001b[0;34m,\u001b[0m \u001b[0mflags\u001b[0m\u001b[0;34m)\u001b[0m\u001b[0;34m\u001b[0m\u001b[0;34m\u001b[0m\u001b[0m\n\u001b[0m\u001b[1;32m    305\u001b[0m     \u001b[0;32mif\u001b[0m \u001b[0;32mnot\u001b[0m \u001b[0;34m(\u001b[0m\u001b[0mflags\u001b[0m \u001b[0;34m&\u001b[0m \u001b[0mDEBUG\u001b[0m\u001b[0;34m)\u001b[0m\u001b[0;34m:\u001b[0m\u001b[0;34m\u001b[0m\u001b[0;34m\u001b[0m\u001b[0m\n\u001b[1;32m    306\u001b[0m         \u001b[0;32mif\u001b[0m \u001b[0mlen\u001b[0m\u001b[0;34m(\u001b[0m\u001b[0m_cache\u001b[0m\u001b[0;34m)\u001b[0m \u001b[0;34m>=\u001b[0m \u001b[0m_MAXCACHE\u001b[0m\u001b[0;34m:\u001b[0m\u001b[0;34m\u001b[0m\u001b[0;34m\u001b[0m\u001b[0m\n",
            "\u001b[0;32m/usr/lib/python3.9/sre_compile.py\u001b[0m in \u001b[0;36mcompile\u001b[0;34m(p, flags)\u001b[0m\n\u001b[1;32m    786\u001b[0m     \u001b[0;32mif\u001b[0m \u001b[0misstring\u001b[0m\u001b[0;34m(\u001b[0m\u001b[0mp\u001b[0m\u001b[0;34m)\u001b[0m\u001b[0;34m:\u001b[0m\u001b[0;34m\u001b[0m\u001b[0;34m\u001b[0m\u001b[0m\n\u001b[1;32m    787\u001b[0m         \u001b[0mpattern\u001b[0m \u001b[0;34m=\u001b[0m \u001b[0mp\u001b[0m\u001b[0;34m\u001b[0m\u001b[0;34m\u001b[0m\u001b[0m\n\u001b[0;32m--> 788\u001b[0;31m         \u001b[0mp\u001b[0m \u001b[0;34m=\u001b[0m \u001b[0msre_parse\u001b[0m\u001b[0;34m.\u001b[0m\u001b[0mparse\u001b[0m\u001b[0;34m(\u001b[0m\u001b[0mp\u001b[0m\u001b[0;34m,\u001b[0m \u001b[0mflags\u001b[0m\u001b[0;34m)\u001b[0m\u001b[0;34m\u001b[0m\u001b[0;34m\u001b[0m\u001b[0m\n\u001b[0m\u001b[1;32m    789\u001b[0m     \u001b[0;32melse\u001b[0m\u001b[0;34m:\u001b[0m\u001b[0;34m\u001b[0m\u001b[0;34m\u001b[0m\u001b[0m\n\u001b[1;32m    790\u001b[0m         \u001b[0mpattern\u001b[0m \u001b[0;34m=\u001b[0m \u001b[0;32mNone\u001b[0m\u001b[0;34m\u001b[0m\u001b[0;34m\u001b[0m\u001b[0m\n",
            "\u001b[0;32m/usr/lib/python3.9/sre_parse.py\u001b[0m in \u001b[0;36mparse\u001b[0;34m(str, flags, state)\u001b[0m\n\u001b[1;32m    953\u001b[0m \u001b[0;34m\u001b[0m\u001b[0m\n\u001b[1;32m    954\u001b[0m     \u001b[0;32mtry\u001b[0m\u001b[0;34m:\u001b[0m\u001b[0;34m\u001b[0m\u001b[0;34m\u001b[0m\u001b[0m\n\u001b[0;32m--> 955\u001b[0;31m         \u001b[0mp\u001b[0m \u001b[0;34m=\u001b[0m \u001b[0m_parse_sub\u001b[0m\u001b[0;34m(\u001b[0m\u001b[0msource\u001b[0m\u001b[0;34m,\u001b[0m \u001b[0mstate\u001b[0m\u001b[0;34m,\u001b[0m \u001b[0mflags\u001b[0m \u001b[0;34m&\u001b[0m \u001b[0mSRE_FLAG_VERBOSE\u001b[0m\u001b[0;34m,\u001b[0m \u001b[0;36m0\u001b[0m\u001b[0;34m)\u001b[0m\u001b[0;34m\u001b[0m\u001b[0;34m\u001b[0m\u001b[0m\n\u001b[0m\u001b[1;32m    956\u001b[0m     \u001b[0;32mexcept\u001b[0m \u001b[0mVerbose\u001b[0m\u001b[0;34m:\u001b[0m\u001b[0;34m\u001b[0m\u001b[0;34m\u001b[0m\u001b[0m\n\u001b[1;32m    957\u001b[0m         \u001b[0;31m# the VERBOSE flag was switched on inside the pattern.  to be\u001b[0m\u001b[0;34m\u001b[0m\u001b[0;34m\u001b[0m\u001b[0m\n",
            "\u001b[0;32m/usr/lib/python3.9/sre_parse.py\u001b[0m in \u001b[0;36m_parse_sub\u001b[0;34m(source, state, verbose, nested)\u001b[0m\n\u001b[1;32m    442\u001b[0m     \u001b[0mstart\u001b[0m \u001b[0;34m=\u001b[0m \u001b[0msource\u001b[0m\u001b[0;34m.\u001b[0m\u001b[0mtell\u001b[0m\u001b[0;34m(\u001b[0m\u001b[0;34m)\u001b[0m\u001b[0;34m\u001b[0m\u001b[0;34m\u001b[0m\u001b[0m\n\u001b[1;32m    443\u001b[0m     \u001b[0;32mwhile\u001b[0m \u001b[0;32mTrue\u001b[0m\u001b[0;34m:\u001b[0m\u001b[0;34m\u001b[0m\u001b[0;34m\u001b[0m\u001b[0m\n\u001b[0;32m--> 444\u001b[0;31m         itemsappend(_parse(source, state, verbose, nested + 1,\n\u001b[0m\u001b[1;32m    445\u001b[0m                            not nested and not items))\n\u001b[1;32m    446\u001b[0m         \u001b[0;32mif\u001b[0m \u001b[0;32mnot\u001b[0m \u001b[0msourcematch\u001b[0m\u001b[0;34m(\u001b[0m\u001b[0;34m\"|\"\u001b[0m\u001b[0;34m)\u001b[0m\u001b[0;34m:\u001b[0m\u001b[0;34m\u001b[0m\u001b[0;34m\u001b[0m\u001b[0m\n",
            "\u001b[0;32m/usr/lib/python3.9/sre_parse.py\u001b[0m in \u001b[0;36m_parse\u001b[0;34m(source, state, verbose, nested, first)\u001b[0m\n\u001b[1;32m    524\u001b[0m \u001b[0;34m\u001b[0m\u001b[0m\n\u001b[1;32m    525\u001b[0m         \u001b[0;32mif\u001b[0m \u001b[0mthis\u001b[0m\u001b[0;34m[\u001b[0m\u001b[0;36m0\u001b[0m\u001b[0;34m]\u001b[0m \u001b[0;34m==\u001b[0m \u001b[0;34m\"\\\\\"\u001b[0m\u001b[0;34m:\u001b[0m\u001b[0;34m\u001b[0m\u001b[0;34m\u001b[0m\u001b[0m\n\u001b[0;32m--> 526\u001b[0;31m             \u001b[0mcode\u001b[0m \u001b[0;34m=\u001b[0m \u001b[0m_escape\u001b[0m\u001b[0;34m(\u001b[0m\u001b[0msource\u001b[0m\u001b[0;34m,\u001b[0m \u001b[0mthis\u001b[0m\u001b[0;34m,\u001b[0m \u001b[0mstate\u001b[0m\u001b[0;34m)\u001b[0m\u001b[0;34m\u001b[0m\u001b[0;34m\u001b[0m\u001b[0m\n\u001b[0m\u001b[1;32m    527\u001b[0m             \u001b[0msubpatternappend\u001b[0m\u001b[0;34m(\u001b[0m\u001b[0mcode\u001b[0m\u001b[0;34m)\u001b[0m\u001b[0;34m\u001b[0m\u001b[0;34m\u001b[0m\u001b[0m\n\u001b[1;32m    528\u001b[0m \u001b[0;34m\u001b[0m\u001b[0m\n",
            "\u001b[0;32m/usr/lib/python3.9/sre_parse.py\u001b[0m in \u001b[0;36m_escape\u001b[0;34m(source, escape, state)\u001b[0m\n\u001b[1;32m    425\u001b[0m         \u001b[0;32mif\u001b[0m \u001b[0mlen\u001b[0m\u001b[0;34m(\u001b[0m\u001b[0mescape\u001b[0m\u001b[0;34m)\u001b[0m \u001b[0;34m==\u001b[0m \u001b[0;36m2\u001b[0m\u001b[0;34m:\u001b[0m\u001b[0;34m\u001b[0m\u001b[0;34m\u001b[0m\u001b[0m\n\u001b[1;32m    426\u001b[0m             \u001b[0;32mif\u001b[0m \u001b[0mc\u001b[0m \u001b[0;32min\u001b[0m \u001b[0mASCIILETTERS\u001b[0m\u001b[0;34m:\u001b[0m\u001b[0;34m\u001b[0m\u001b[0;34m\u001b[0m\u001b[0m\n\u001b[0;32m--> 427\u001b[0;31m                 \u001b[0;32mraise\u001b[0m \u001b[0msource\u001b[0m\u001b[0;34m.\u001b[0m\u001b[0merror\u001b[0m\u001b[0;34m(\u001b[0m\u001b[0;34m\"bad escape %s\"\u001b[0m \u001b[0;34m%\u001b[0m \u001b[0mescape\u001b[0m\u001b[0;34m,\u001b[0m \u001b[0mlen\u001b[0m\u001b[0;34m(\u001b[0m\u001b[0mescape\u001b[0m\u001b[0;34m)\u001b[0m\u001b[0;34m)\u001b[0m\u001b[0;34m\u001b[0m\u001b[0;34m\u001b[0m\u001b[0m\n\u001b[0m\u001b[1;32m    428\u001b[0m             \u001b[0;32mreturn\u001b[0m \u001b[0mLITERAL\u001b[0m\u001b[0;34m,\u001b[0m \u001b[0mord\u001b[0m\u001b[0;34m(\u001b[0m\u001b[0mescape\u001b[0m\u001b[0;34m[\u001b[0m\u001b[0;36m1\u001b[0m\u001b[0;34m]\u001b[0m\u001b[0;34m)\u001b[0m\u001b[0;34m\u001b[0m\u001b[0;34m\u001b[0m\u001b[0m\n\u001b[1;32m    429\u001b[0m     \u001b[0;32mexcept\u001b[0m \u001b[0mValueError\u001b[0m\u001b[0;34m:\u001b[0m\u001b[0;34m\u001b[0m\u001b[0;34m\u001b[0m\u001b[0m\n",
            "\u001b[0;31merror\u001b[0m: bad escape \\p at position 0"
          ]
        }
      ]
    },
    {
      "cell_type": "code",
      "source": [],
      "metadata": {
        "id": "PSIyjqQRLztR"
      },
      "execution_count": null,
      "outputs": []
    },
    {
      "cell_type": "code",
      "source": [
        "# Converting to dataframe\n",
        "final_df = pd.DataFrame(final,columns=[\"text\"])\n",
        "final_df"
      ],
      "metadata": {
        "colab": {
          "base_uri": "https://localhost:8080/",
          "height": 81
        },
        "id": "QH_b4IiLfUVQ",
        "outputId": "017585ef-b5d7-43e9-c9b1-c07edeed96ac"
      },
      "execution_count": null,
      "outputs": [
        {
          "output_type": "execute_result",
          "data": {
            "text/plain": [
              "                                                text\n",
              "0  arXiv:0705.1309v1  [cs.AI]  9 May 2007Robust M..."
            ],
            "text/html": [
              "\n",
              "  <div id=\"df-0462d0ea-1ec8-4721-8fb4-87967148d2a6\">\n",
              "    <div class=\"colab-df-container\">\n",
              "      <div>\n",
              "<style scoped>\n",
              "    .dataframe tbody tr th:only-of-type {\n",
              "        vertical-align: middle;\n",
              "    }\n",
              "\n",
              "    .dataframe tbody tr th {\n",
              "        vertical-align: top;\n",
              "    }\n",
              "\n",
              "    .dataframe thead th {\n",
              "        text-align: right;\n",
              "    }\n",
              "</style>\n",
              "<table border=\"1\" class=\"dataframe\">\n",
              "  <thead>\n",
              "    <tr style=\"text-align: right;\">\n",
              "      <th></th>\n",
              "      <th>text</th>\n",
              "    </tr>\n",
              "  </thead>\n",
              "  <tbody>\n",
              "    <tr>\n",
              "      <th>0</th>\n",
              "      <td>arXiv:0705.1309v1  [cs.AI]  9 May 2007Robust M...</td>\n",
              "    </tr>\n",
              "  </tbody>\n",
              "</table>\n",
              "</div>\n",
              "      <button class=\"colab-df-convert\" onclick=\"convertToInteractive('df-0462d0ea-1ec8-4721-8fb4-87967148d2a6')\"\n",
              "              title=\"Convert this dataframe to an interactive table.\"\n",
              "              style=\"display:none;\">\n",
              "        \n",
              "  <svg xmlns=\"http://www.w3.org/2000/svg\" height=\"24px\"viewBox=\"0 0 24 24\"\n",
              "       width=\"24px\">\n",
              "    <path d=\"M0 0h24v24H0V0z\" fill=\"none\"/>\n",
              "    <path d=\"M18.56 5.44l.94 2.06.94-2.06 2.06-.94-2.06-.94-.94-2.06-.94 2.06-2.06.94zm-11 1L8.5 8.5l.94-2.06 2.06-.94-2.06-.94L8.5 2.5l-.94 2.06-2.06.94zm10 10l.94 2.06.94-2.06 2.06-.94-2.06-.94-.94-2.06-.94 2.06-2.06.94z\"/><path d=\"M17.41 7.96l-1.37-1.37c-.4-.4-.92-.59-1.43-.59-.52 0-1.04.2-1.43.59L10.3 9.45l-7.72 7.72c-.78.78-.78 2.05 0 2.83L4 21.41c.39.39.9.59 1.41.59.51 0 1.02-.2 1.41-.59l7.78-7.78 2.81-2.81c.8-.78.8-2.07 0-2.86zM5.41 20L4 18.59l7.72-7.72 1.47 1.35L5.41 20z\"/>\n",
              "  </svg>\n",
              "      </button>\n",
              "      \n",
              "  <style>\n",
              "    .colab-df-container {\n",
              "      display:flex;\n",
              "      flex-wrap:wrap;\n",
              "      gap: 12px;\n",
              "    }\n",
              "\n",
              "    .colab-df-convert {\n",
              "      background-color: #E8F0FE;\n",
              "      border: none;\n",
              "      border-radius: 50%;\n",
              "      cursor: pointer;\n",
              "      display: none;\n",
              "      fill: #1967D2;\n",
              "      height: 32px;\n",
              "      padding: 0 0 0 0;\n",
              "      width: 32px;\n",
              "    }\n",
              "\n",
              "    .colab-df-convert:hover {\n",
              "      background-color: #E2EBFA;\n",
              "      box-shadow: 0px 1px 2px rgba(60, 64, 67, 0.3), 0px 1px 3px 1px rgba(60, 64, 67, 0.15);\n",
              "      fill: #174EA6;\n",
              "    }\n",
              "\n",
              "    [theme=dark] .colab-df-convert {\n",
              "      background-color: #3B4455;\n",
              "      fill: #D2E3FC;\n",
              "    }\n",
              "\n",
              "    [theme=dark] .colab-df-convert:hover {\n",
              "      background-color: #434B5C;\n",
              "      box-shadow: 0px 1px 3px 1px rgba(0, 0, 0, 0.15);\n",
              "      filter: drop-shadow(0px 1px 2px rgba(0, 0, 0, 0.3));\n",
              "      fill: #FFFFFF;\n",
              "    }\n",
              "  </style>\n",
              "\n",
              "      <script>\n",
              "        const buttonEl =\n",
              "          document.querySelector('#df-0462d0ea-1ec8-4721-8fb4-87967148d2a6 button.colab-df-convert');\n",
              "        buttonEl.style.display =\n",
              "          google.colab.kernel.accessAllowed ? 'block' : 'none';\n",
              "\n",
              "        async function convertToInteractive(key) {\n",
              "          const element = document.querySelector('#df-0462d0ea-1ec8-4721-8fb4-87967148d2a6');\n",
              "          const dataTable =\n",
              "            await google.colab.kernel.invokeFunction('convertToInteractive',\n",
              "                                                     [key], {});\n",
              "          if (!dataTable) return;\n",
              "\n",
              "          const docLinkHtml = 'Like what you see? Visit the ' +\n",
              "            '<a target=\"_blank\" href=https://colab.research.google.com/notebooks/data_table.ipynb>data table notebook</a>'\n",
              "            + ' to learn more about interactive tables.';\n",
              "          element.innerHTML = '';\n",
              "          dataTable['output_type'] = 'display_data';\n",
              "          await google.colab.output.renderOutput(dataTable, element);\n",
              "          const docLink = document.createElement('div');\n",
              "          docLink.innerHTML = docLinkHtml;\n",
              "          element.appendChild(docLink);\n",
              "        }\n",
              "      </script>\n",
              "    </div>\n",
              "  </div>\n",
              "  "
            ]
          },
          "metadata": {},
          "execution_count": 12
        }
      ]
    },
    {
      "cell_type": "code",
      "source": [
        "content = final_df[\"text\"]\n",
        "\n",
        "summ_per = content.apply(summarize,ratio = 0.8)\n",
        "summ_words = content.apply(summarize, word_count = 1000)\n",
        "\n",
        "final_df['summ_per'] = summ_per\n",
        "final_df['summ_words'] = summ_words\n",
        "final_df.head()"
      ],
      "metadata": {
        "id": "s5BrI-R_fjO3"
      },
      "execution_count": null,
      "outputs": []
    },
    {
      "cell_type": "code",
      "source": [
        "s=str(summ_per)\n",
        "print(len(s))"
      ],
      "metadata": {
        "colab": {
          "base_uri": "https://localhost:8080/",
          "height": 189
        },
        "id": "gsjrblLwfjX2",
        "outputId": "91b0b43a-d429-4859-85d5-c8b8818e27b8"
      },
      "execution_count": null,
      "outputs": [
        {
          "output_type": "error",
          "ename": "NameError",
          "evalue": "ignored",
          "traceback": [
            "\u001b[0;31m---------------------------------------------------------------------------\u001b[0m",
            "\u001b[0;31mNameError\u001b[0m                                 Traceback (most recent call last)",
            "\u001b[0;32m<ipython-input-13-588c81d5442e>\u001b[0m in \u001b[0;36m<cell line: 1>\u001b[0;34m()\u001b[0m\n\u001b[0;32m----> 1\u001b[0;31m \u001b[0ms\u001b[0m\u001b[0;34m=\u001b[0m\u001b[0mstr\u001b[0m\u001b[0;34m(\u001b[0m\u001b[0msumm_per\u001b[0m\u001b[0;34m)\u001b[0m\u001b[0;34m\u001b[0m\u001b[0;34m\u001b[0m\u001b[0m\n\u001b[0m\u001b[1;32m      2\u001b[0m \u001b[0mprint\u001b[0m\u001b[0;34m(\u001b[0m\u001b[0mlen\u001b[0m\u001b[0;34m(\u001b[0m\u001b[0ms\u001b[0m\u001b[0;34m)\u001b[0m\u001b[0;34m)\u001b[0m\u001b[0;34m\u001b[0m\u001b[0;34m\u001b[0m\u001b[0m\n",
            "\u001b[0;31mNameError\u001b[0m: name 'summ_per' is not defined"
          ]
        }
      ]
    },
    {
      "cell_type": "code",
      "source": [
        "summarizer = pipeline(\"summarization\", model=\"t5-base\", tokenizer=\"t5-base\", framework=\"tf\")\n",
        "ptorch1 = summarizer(s, min_length=20,max_length=100)\n",
        "\n",
        "print(ptorch1)"
      ],
      "metadata": {
        "colab": {
          "base_uri": "https://localhost:8080/"
        },
        "id": "4cAGAomdfjTy",
        "outputId": "7f9e5413-45d6-4e80-b54d-56592b7bf3e6"
      },
      "execution_count": null,
      "outputs": [
        {
          "output_type": "stream",
          "name": "stderr",
          "text": [
            "All model checkpoint layers were used when initializing TFT5ForConditionalGeneration.\n",
            "\n",
            "All the layers of TFT5ForConditionalGeneration were initialized from the model checkpoint at t5-base.\n",
            "If your task is similar to the task the model of the checkpoint was trained on, you can already use TFT5ForConditionalGeneration for predictions without further training.\n",
            "Your max_length is set to 100, but you input_length is only 21. You might consider decreasing max_length manually, e.g. summarizer('...', max_length=10)\n"
          ]
        },
        {
          "output_type": "stream",
          "name": "stdout",
          "text": [
            "[{'summary_text': '0 Intelligent location of simultaneously active ... Name: text, dtype: object .'}]\n"
          ]
        }
      ]
    },
    {
      "cell_type": "code",
      "source": [],
      "metadata": {
        "id": "yEZ9Oc6lmf9o"
      },
      "execution_count": null,
      "outputs": []
    },
    {
      "cell_type": "code",
      "source": [
        "pip install PyPDF2"
      ],
      "metadata": {
        "colab": {
          "base_uri": "https://localhost:8080/"
        },
        "id": "XSsdp3C-mf_t",
        "outputId": "8dce8036-4c2a-41c0-aceb-fe3608f66214"
      },
      "execution_count": null,
      "outputs": [
        {
          "output_type": "stream",
          "name": "stdout",
          "text": [
            "Looking in indexes: https://pypi.org/simple, https://us-python.pkg.dev/colab-wheels/public/simple/\n",
            "Collecting PyPDF2\n",
            "  Downloading pypdf2-3.0.1-py3-none-any.whl (232 kB)\n",
            "\u001b[2K     \u001b[90m━━━━━━━━━━━━━━━━━━━━━━━━━━━━━━━━━━━━━━━\u001b[0m \u001b[32m232.6/232.6 kB\u001b[0m \u001b[31m5.4 MB/s\u001b[0m eta \u001b[36m0:00:00\u001b[0m\n",
            "\u001b[?25hRequirement already satisfied: typing_extensions>=3.10.0.0 in /usr/local/lib/python3.9/dist-packages (from PyPDF2) (4.5.0)\n",
            "Installing collected packages: PyPDF2\n",
            "Successfully installed PyPDF2-3.0.1\n"
          ]
        }
      ]
    },
    {
      "cell_type": "code",
      "source": [
        "import PyPDF2\n",
        "import xml.etree.ElementTree as ET\n",
        "# Open the PDF file\n",
        "pdf_file = open('0705.1309.pdf', 'rb')\n",
        "pdf_reader = PyPDF2.PdfReader(pdf_file)\n",
        "text = \"\"\n",
        "num_pages = len(pdf_reader.pages)\n",
        "print(num_pages)\n",
        "for i in range(num_pages):\n",
        "  page = pdf_reader.pages[i]\n",
        "  text += page.extract_text()\n",
        "\n",
        "# Create an XML document\n",
        "root = ET.Element('document')\n",
        "for line in text.split('\\n'):\n",
        "  if line.strip() != '':\n",
        "    ET.SubElement(root, 'line').text = line\n",
        "\n",
        "xml_file = open('example.xml', 'wb')\n",
        "s=ET.tostring(root)\n",
        "xml_file.write(ET.tostring(root))\n",
        "xml_file.close()"
      ],
      "metadata": {
        "colab": {
          "base_uri": "https://localhost:8080/"
        },
        "id": "FsC7CEnkmgDS",
        "outputId": "6c5da69c-7e11-4721-93e8-86aab4dd2ae2"
      },
      "execution_count": null,
      "outputs": [
        {
          "output_type": "stream",
          "name": "stdout",
          "text": [
            "8\n"
          ]
        }
      ]
    },
    {
      "cell_type": "code",
      "source": [
        "l"
      ],
      "metadata": {
        "id": "vfI6WuoN4O4B"
      },
      "execution_count": null,
      "outputs": []
    },
    {
      "cell_type": "code",
      "source": [],
      "metadata": {
        "id": "y1Q2d4vP1_zW"
      },
      "execution_count": null,
      "outputs": []
    },
    {
      "cell_type": "code",
      "source": [
        "# summarizer = pipeline(\"summarization\", model=\"longformer-base-4096\")\n",
        "# print(summarizer(intro, max_length=200, min_length=100, do_sample=False))"
      ],
      "metadata": {
        "id": "WUz8__06-kjh"
      },
      "execution_count": null,
      "outputs": []
    },
    {
      "cell_type": "code",
      "source": [],
      "metadata": {
        "id": "-s0rclJnDkmv"
      },
      "execution_count": null,
      "outputs": []
    }
  ]
}